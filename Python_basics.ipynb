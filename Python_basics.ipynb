{
  "nbformat": 4,
  "nbformat_minor": 0,
  "metadata": {
    "colab": {
      "provenance": [],
      "authorship_tag": "ABX9TyPO++XRuR9e986Bfr1owmZ1",
      "include_colab_link": true
    },
    "kernelspec": {
      "name": "python3",
      "display_name": "Python 3"
    },
    "language_info": {
      "name": "python"
    }
  },
  "cells": [
    {
      "cell_type": "markdown",
      "metadata": {
        "id": "view-in-github",
        "colab_type": "text"
      },
      "source": [
        "<a href=\"https://colab.research.google.com/github/tanuj-patil-15/Python/blob/main/Python_basics.ipynb\" target=\"_parent\"><img src=\"https://colab.research.google.com/assets/colab-badge.svg\" alt=\"Open In Colab\"/></a>"
      ]
    },
    {
      "cell_type": "markdown",
      "source": [
        "#Using this notebook to revise python basics"
      ],
      "metadata": {
        "id": "_SXHMGIlYqbh"
      }
    },
    {
      "cell_type": "code",
      "execution_count": null,
      "metadata": {
        "id": "txhHt0150t4b"
      },
      "outputs": [],
      "source": [
        "# Take two numbers n and i from the user as an input where you have to find all factors of number n and return ith factor."
      ]
    },
    {
      "cell_type": "code",
      "source": [
        "def factor(n,i):\n",
        "  for x in range (1,n):\n",
        "    if ((n%x)==0):\n",
        "      i = i - 1\n",
        "      if (i == 0):\n",
        "        return x\n",
        "\n"
      ],
      "metadata": {
        "id": "AoIIKTDr1UM-"
      },
      "execution_count": null,
      "outputs": []
    },
    {
      "cell_type": "code",
      "source": [
        "def factor(n,i):\n",
        "  factor_list = []\n",
        "\n",
        "  for x in range (1,int(n ** (1/2)) + 1):\n",
        "    if((n%x) == 0):\n",
        "      factor_list.append(x)\n",
        "      if not x == int(n/x):\n",
        "        factor_list.append(int(n/x))\n",
        "\n",
        "  factor_list.sort()\n",
        "\n",
        "\n",
        "\n",
        "  return factor_list[i - 1]"
      ],
      "metadata": {
        "id": "lBHMiHiQ5yRc"
      },
      "execution_count": null,
      "outputs": []
    },
    {
      "cell_type": "code",
      "source": [
        "factor(100,4)"
      ],
      "metadata": {
        "id": "qJKLeDvh7avm",
        "colab": {
          "base_uri": "https://localhost:8080/"
        },
        "outputId": "3070402c-19bf-468e-e1c4-98bc4ee26e63"
      },
      "execution_count": null,
      "outputs": [
        {
          "output_type": "execute_result",
          "data": {
            "text/plain": [
              "5"
            ]
          },
          "metadata": {},
          "execution_count": 5
        }
      ]
    },
    {
      "cell_type": "markdown",
      "source": [
        "# Basic Syntax"
      ],
      "metadata": {
        "id": "uvIMp5xeZAai"
      }
    },
    {
      "cell_type": "code",
      "source": [
        "print(\"String\"*5)"
      ],
      "metadata": {
        "colab": {
          "base_uri": "https://localhost:8080/"
        },
        "id": "fKLoYAR3ZQo4",
        "outputId": "5e28be16-d8c4-46ca-e3e4-ee8a2c3da99d"
      },
      "execution_count": null,
      "outputs": [
        {
          "output_type": "stream",
          "name": "stdout",
          "text": [
            "StringStringStringStringString\n"
          ]
        }
      ]
    },
    {
      "cell_type": "code",
      "source": [
        "a = 57\n",
        "\n",
        "b = c = d = 3\n",
        "\n",
        "x, y, z = 1, 2, 3\n"
      ],
      "metadata": {
        "id": "nwikiav2Zhye"
      },
      "execution_count": null,
      "outputs": []
    },
    {
      "cell_type": "code",
      "source": [
        "help(\"keywords\")\n",
        "# do not use them as variable\n"
      ],
      "metadata": {
        "colab": {
          "base_uri": "https://localhost:8080/"
        },
        "id": "zqdxt8E3aVQb",
        "outputId": "d41f14e8-cdf8-4a4f-cd30-8afd2c96d929"
      },
      "execution_count": null,
      "outputs": [
        {
          "output_type": "stream",
          "name": "stdout",
          "text": [
            "\n",
            "Here is a list of the Python keywords.  Enter any keyword to get more help.\n",
            "\n",
            "False               class               from                or\n",
            "None                continue            global              pass\n",
            "True                def                 if                  raise\n",
            "and                 del                 import              return\n",
            "as                  elif                in                  try\n",
            "assert              else                is                  while\n",
            "async               except              lambda              with\n",
            "await               finally             nonlocal            yield\n",
            "break               for                 not                 \n",
            "\n"
          ]
        }
      ]
    },
    {
      "cell_type": "code",
      "source": [
        "max(1,5)"
      ],
      "metadata": {
        "colab": {
          "base_uri": "https://localhost:8080/"
        },
        "id": "rOulJYC2akun",
        "outputId": "63ff7d3b-c1a2-40d3-9f28-f839ced728d5"
      },
      "execution_count": null,
      "outputs": [
        {
          "output_type": "execute_result",
          "data": {
            "text/plain": [
              "5"
            ]
          },
          "metadata": {},
          "execution_count": 9
        }
      ]
    },
    {
      "cell_type": "code",
      "source": [
        "max = 7"
      ],
      "metadata": {
        "id": "hhQm2BNCb4WJ"
      },
      "execution_count": null,
      "outputs": []
    },
    {
      "cell_type": "code",
      "source": [
        "max(1,5)"
      ],
      "metadata": {
        "colab": {
          "base_uri": "https://localhost:8080/",
          "height": 179
        },
        "id": "EgQUpA1mcBhz",
        "outputId": "87ef24a2-bea9-4f3c-e044-dce25658abe1"
      },
      "execution_count": null,
      "outputs": [
        {
          "output_type": "error",
          "ename": "TypeError",
          "evalue": "'int' object is not callable",
          "traceback": [
            "\u001b[0;31m---------------------------------------------------------------------------\u001b[0m",
            "\u001b[0;31mTypeError\u001b[0m                                 Traceback (most recent call last)",
            "\u001b[0;32m<ipython-input-11-ff3e5f6c3828>\u001b[0m in \u001b[0;36m<cell line: 1>\u001b[0;34m()\u001b[0m\n\u001b[0;32m----> 1\u001b[0;31m \u001b[0mmax\u001b[0m\u001b[0;34m(\u001b[0m\u001b[0;36m1\u001b[0m\u001b[0;34m,\u001b[0m\u001b[0;36m5\u001b[0m\u001b[0;34m)\u001b[0m\u001b[0;34m\u001b[0m\u001b[0;34m\u001b[0m\u001b[0m\n\u001b[0m",
            "\u001b[0;31mTypeError\u001b[0m: 'int' object is not callable"
          ]
        }
      ]
    },
    {
      "cell_type": "code",
      "source": [
        "a = 25\n",
        "if a == 27: # indentation\n",
        "  print(\"a is 27\")\n"
      ],
      "metadata": {
        "id": "NI94zW3JcE0u"
      },
      "execution_count": null,
      "outputs": []
    },
    {
      "cell_type": "code",
      "source": [
        "print(' a  = b')"
      ],
      "metadata": {
        "id": "eEcje-vLdmU9"
      },
      "execution_count": null,
      "outputs": []
    },
    {
      "cell_type": "code",
      "source": [
        "print('Aaron said \"He is sick\".')"
      ],
      "metadata": {
        "id": "WBiihxtedxI7"
      },
      "execution_count": null,
      "outputs": []
    },
    {
      "cell_type": "code",
      "source": [
        "print(''' Hii\n",
        "this can be used to write paragraphs''')"
      ],
      "metadata": {
        "id": "AmFaZDNeeAFi"
      },
      "execution_count": null,
      "outputs": []
    },
    {
      "cell_type": "code",
      "source": [
        "# this is a single line comment\n",
        "\n",
        "''' this is a multi line\n",
        " comment'''"
      ],
      "metadata": {
        "id": "LK6xSwZWeObo"
      },
      "execution_count": null,
      "outputs": []
    },
    {
      "cell_type": "markdown",
      "source": [
        "# Standard Data types"
      ],
      "metadata": {
        "id": "eHJopWn1eizI"
      }
    },
    {
      "cell_type": "code",
      "source": [
        "a = 'String'\n",
        "type(a)"
      ],
      "metadata": {
        "id": "gWQQ0SGEewzI"
      },
      "execution_count": null,
      "outputs": []
    },
    {
      "cell_type": "code",
      "source": [
        "b = 5\n",
        "c = 4.0\n",
        "\n",
        "print(\"type of b is\", type(b), \"type of c is\", type(c))"
      ],
      "metadata": {
        "id": "QwOF6O5qfELb"
      },
      "execution_count": null,
      "outputs": []
    },
    {
      "cell_type": "code",
      "source": [
        "e =[1, 4.0, \"abc\"]\n",
        "print(type(e))\n",
        "print(e)"
      ],
      "metadata": {
        "id": "1FMnqvhTfV-A"
      },
      "execution_count": null,
      "outputs": []
    },
    {
      "cell_type": "code",
      "source": [
        "f = (1, 2, 3, 4)\n",
        "print(type(f), f)"
      ],
      "metadata": {
        "id": "zrB3wWj_fo3V"
      },
      "execution_count": null,
      "outputs": []
    },
    {
      "cell_type": "code",
      "source": [
        "g = (1, )\n",
        "print(type(g), g)"
      ],
      "metadata": {
        "id": "cpFYZaYZgNlC"
      },
      "execution_count": null,
      "outputs": []
    },
    {
      "cell_type": "code",
      "source": [
        "h = {1:1,2:2,3:3} # key is immutable but values can be mutable\n",
        "#  list and dictionary cant be keys because they are mutable"
      ],
      "metadata": {
        "id": "BuGcbAybgWws"
      },
      "execution_count": null,
      "outputs": []
    },
    {
      "cell_type": "markdown",
      "source": [
        "### Data type conversions"
      ],
      "metadata": {
        "id": "hwaSOByShusp"
      }
    },
    {
      "cell_type": "code",
      "source": [
        "b = 5\n",
        "c = 4.0\n",
        "\n",
        "int(c)"
      ],
      "metadata": {
        "id": "eY9yZsOTh8pK"
      },
      "execution_count": null,
      "outputs": []
    },
    {
      "cell_type": "code",
      "source": [
        "inp = input(\"Enter a number between 10 to 20: \")"
      ],
      "metadata": {
        "id": "iWMDrzlAiHWj"
      },
      "execution_count": null,
      "outputs": []
    },
    {
      "cell_type": "code",
      "source": [
        "type(inp)"
      ],
      "metadata": {
        "id": "0c0akoBPiaHw"
      },
      "execution_count": null,
      "outputs": []
    },
    {
      "cell_type": "code",
      "source": [
        "inp ** 2 # inp is string"
      ],
      "metadata": {
        "id": "OTAcqDOQie6e"
      },
      "execution_count": null,
      "outputs": []
    },
    {
      "cell_type": "code",
      "source": [
        "inp = int(inp)\n",
        "inp ** 2"
      ],
      "metadata": {
        "id": "k6OBD-wGil1B"
      },
      "execution_count": null,
      "outputs": []
    },
    {
      "cell_type": "code",
      "source": [
        "list_1 = [1, 4.0, \"abc\"]\n",
        "tuple(list_1)"
      ],
      "metadata": {
        "id": "QlTcEs2MisqF"
      },
      "execution_count": null,
      "outputs": []
    },
    {
      "cell_type": "code",
      "source": [
        "print(a)"
      ],
      "metadata": {
        "id": "biwZ81_Qi-Cf"
      },
      "execution_count": null,
      "outputs": []
    },
    {
      "cell_type": "code",
      "source": [
        "list(a)"
      ],
      "metadata": {
        "id": "2ulcCYVdjBwx"
      },
      "execution_count": null,
      "outputs": []
    },
    {
      "cell_type": "code",
      "source": [
        "tuple(a)"
      ],
      "metadata": {
        "id": "uaIglJLKjEwi"
      },
      "execution_count": null,
      "outputs": []
    },
    {
      "cell_type": "code",
      "source": [
        "import math\n",
        "max(math.ceil(abs(round(math.sqrt(3477),2))),10)"
      ],
      "metadata": {
        "id": "L3f_QnFejIsk"
      },
      "execution_count": null,
      "outputs": []
    },
    {
      "cell_type": "markdown",
      "source": [
        "# Basic Operators"
      ],
      "metadata": {
        "id": "qwnt9-mWuH41"
      }
    },
    {
      "cell_type": "markdown",
      "source": [
        "- +\n",
        "- -\n",
        "- *\n",
        "- /\n",
        "- //\n",
        "- %\n",
        "- **"
      ],
      "metadata": {
        "id": "__0WlNtNvUF2"
      }
    },
    {
      "cell_type": "code",
      "source": [
        "25 // 5"
      ],
      "metadata": {
        "id": "OxkrbYwLvoWY"
      },
      "execution_count": null,
      "outputs": []
    },
    {
      "cell_type": "code",
      "source": [
        "print(26 // 5)\n",
        "print(26/5)"
      ],
      "metadata": {
        "id": "HEgQXKThvqYI"
      },
      "execution_count": null,
      "outputs": []
    },
    {
      "cell_type": "code",
      "source": [
        "26 % 5"
      ],
      "metadata": {
        "id": "d5JYy44gvtPO"
      },
      "execution_count": null,
      "outputs": []
    },
    {
      "cell_type": "code",
      "source": [
        "16 ** (1/2)"
      ],
      "metadata": {
        "id": "S2NWzUEtwC_T"
      },
      "execution_count": null,
      "outputs": []
    },
    {
      "cell_type": "markdown",
      "source": [
        "### Comparison/Relational Operators"
      ],
      "metadata": {
        "id": "8Um4A2xzwzO1"
      }
    },
    {
      "cell_type": "markdown",
      "source": [
        "- '=='\n",
        "- '!='\n",
        "- '>'\n",
        "- '<'\n",
        "- '>='\n",
        "- '<='"
      ],
      "metadata": {
        "id": "pzJlAsPWwL1L"
      }
    },
    {
      "cell_type": "markdown",
      "source": [
        "### Assignment operators"
      ],
      "metadata": {
        "id": "Oa1U4ArSxQUo"
      }
    },
    {
      "cell_type": "markdown",
      "source": [
        "- =\n",
        "- +=\n",
        "- -=\n",
        "- *=\n",
        "- /=\n",
        "- //=\n",
        "- %="
      ],
      "metadata": {
        "id": "CGYVXTpswfKz"
      }
    },
    {
      "cell_type": "markdown",
      "source": [
        "### Logical Operators"
      ],
      "metadata": {
        "id": "opucAt3VxV34"
      }
    },
    {
      "cell_type": "markdown",
      "source": [
        "- and\n",
        "- or\n",
        "- not"
      ],
      "metadata": {
        "id": "-bxhXjVHxZ2J"
      }
    },
    {
      "cell_type": "markdown",
      "source": [
        "### Bitwise Operators"
      ],
      "metadata": {
        "id": "ljwElwnbxb4-"
      }
    },
    {
      "cell_type": "markdown",
      "source": [
        "- & Bitwise And\n",
        "- | Bitwise Or\n",
        "- ~ Bitwise Not\n",
        "- ^ Bitwise Xor"
      ],
      "metadata": {
        "id": "b3LKKHnXxjuP"
      }
    },
    {
      "cell_type": "code",
      "source": [
        "10 & 4"
      ],
      "metadata": {
        "id": "rgccJECOx8w8"
      },
      "execution_count": null,
      "outputs": []
    },
    {
      "cell_type": "code",
      "source": [
        "10 | 4"
      ],
      "metadata": {
        "id": "3rWYyy_Qx_yY"
      },
      "execution_count": null,
      "outputs": []
    },
    {
      "cell_type": "markdown",
      "source": [
        "### Membership Operators"
      ],
      "metadata": {
        "id": "MSgcog65yDSL"
      }
    },
    {
      "cell_type": "markdown",
      "source": [
        "- in\n",
        "- not in"
      ],
      "metadata": {
        "id": "2_PoKIayyRIY"
      }
    },
    {
      "cell_type": "code",
      "source": [
        "nums = [1, 2, 3, 4]\n",
        "for i in range(len(nums)): # this loop is in python\n",
        "  if nums[i] == 3:\n",
        "    print(\"Number Exists\")"
      ],
      "metadata": {
        "id": "LtkdsupbySuN"
      },
      "execution_count": null,
      "outputs": []
    },
    {
      "cell_type": "code",
      "source": [
        "if 3 in nums: # this loop could be more optimized hence could be faster...\n",
        "  print(\"number exists\")"
      ],
      "metadata": {
        "id": "NML2bL0_zAlt"
      },
      "execution_count": null,
      "outputs": []
    },
    {
      "cell_type": "markdown",
      "source": [
        "### Identity operators"
      ],
      "metadata": {
        "id": "qnRt6fdszQWU"
      }
    },
    {
      "cell_type": "markdown",
      "source": [
        "- is\n",
        "- is not"
      ],
      "metadata": {
        "id": "G-uWwiwoz394"
      }
    },
    {
      "cell_type": "code",
      "source": [
        "a = 5\n",
        "print(a==5)"
      ],
      "metadata": {
        "id": "e25NNpyIz5QB"
      },
      "execution_count": null,
      "outputs": []
    },
    {
      "cell_type": "code",
      "source": [
        "print(a is 5)"
      ],
      "metadata": {
        "id": "pH0m7OY40B3h"
      },
      "execution_count": null,
      "outputs": []
    },
    {
      "cell_type": "code",
      "source": [
        "type(a) is int"
      ],
      "metadata": {
        "id": "N1gaPoaV0EmM"
      },
      "execution_count": null,
      "outputs": []
    },
    {
      "cell_type": "code",
      "source": [
        "type(a) == int"
      ],
      "metadata": {
        "id": "j8GDRIIT0RVv"
      },
      "execution_count": null,
      "outputs": []
    },
    {
      "cell_type": "markdown",
      "source": [
        "# if-else"
      ],
      "metadata": {
        "id": "tgf3ZIbu0WjZ"
      }
    },
    {
      "cell_type": "code",
      "source": [
        "a = \"python\"\n",
        "\n",
        "if a == \"python\":\n",
        "  print(\"Matched\")\n",
        "else:\n",
        "  print(\"Not Matched\")"
      ],
      "metadata": {
        "colab": {
          "base_uri": "https://localhost:8080/"
        },
        "id": "0nfX5IYc0q6l",
        "outputId": "5079f678-c331-4ca6-cf11-7c24b0535003"
      },
      "execution_count": null,
      "outputs": [
        {
          "output_type": "stream",
          "name": "stdout",
          "text": [
            "Matched\n"
          ]
        }
      ]
    },
    {
      "cell_type": "markdown",
      "source": [
        "```\n",
        "if stock price is smaller than 60: But 1000 stocks\n",
        "if stock price is smaller than 70 but greater than 60: But 500 stocks\n",
        "if stock price is greater than 70 but smaller than 100: But 100 stocks\n",
        "if stock price is greater than 100: sell all existing stocks\n",
        "\n",
        "\n",
        "Assume that we two function. Buy(stock_quantity), and sell(quanity) already defined\n",
        "\n",
        "def buy(stock_numbers):\n",
        "    print(f\"bought {stock_numbers} stocks\")\n",
        "\n",
        "def sell(stock_numbers):\n",
        "    print(f\"Sold {stock_numbers} stocks\")\n",
        "\n",
        "```"
      ],
      "metadata": {
        "id": "k011_kMG1NfK"
      }
    },
    {
      "cell_type": "code",
      "source": [
        "def buy(stock_numbers):\n",
        "    print(f\"bought {stock_numbers} stocks\")\n",
        "\n",
        "def sell(stock_numbers):\n",
        "    print(f\"Sold {stock_numbers} stocks\")"
      ],
      "metadata": {
        "id": "BRhVohgs1qY5"
      },
      "execution_count": null,
      "outputs": []
    },
    {
      "cell_type": "code",
      "source": [
        "price = float(input(\"Enter price of stock \"))\n",
        "\n",
        "if price < 60:\n",
        "  buy(1000)\n",
        "elif price > 60 and price < 70:\n",
        "  buy(500)\n",
        "elif price > 70 and price < 100:\n",
        "  buy(500)\n",
        "else:\n",
        "  sell(1)\n"
      ],
      "metadata": {
        "colab": {
          "base_uri": "https://localhost:8080/"
        },
        "id": "f9WERxYX12Ji",
        "outputId": "b8383bbb-42ee-44a0-a05b-b6aebc3d2d4d"
      },
      "execution_count": null,
      "outputs": [
        {
          "output_type": "stream",
          "name": "stdout",
          "text": [
            "Enter price of stock 110\n",
            "Sold 1 stocks\n"
          ]
        }
      ]
    },
    {
      "cell_type": "markdown",
      "source": [
        "*E-commerce Shipping:*\n",
        "\n",
        "An e-commerce platform offers different shipping rates based on the total cost of items in the cart and the customer's membership status. Write a program that:\n",
        "\n",
        "- Takes the total purchase amount, customer's membership status (Regular, Premium, VIP), and whether it's a holiday.\n",
        "\n",
        "- Regular customers get free shipping on holidays for purchases over \\$50, otherwise, shipping is \\$10.\n",
        "\n",
        "- Premium customers always get free shipping for purchases over \\$30, and \\$5 shipping if below. On holidays, they also get an additional \\$5 off their total bill.\n",
        "\n",
        "- VIP customers always get free shipping and a 10% discount on their total bill. On holidays, they get an additional 5% off.\n",
        "Calculate and display the final amount including shipping.\n",
        "\n"
      ],
      "metadata": {
        "id": "4wkq-byS2q7g"
      }
    },
    {
      "cell_type": "code",
      "source": [
        "amount = float(input(\"Total purchase amount \"))\n",
        "membership_status = input(\"Enter R for regular membership /n Enter P for Premeium membership /n Enter V for VIP membership \")\n",
        "isHoliday = bool(int(input(\"Enter 1 for holiday an 0 otherwise \")))\n",
        "\n",
        "print(isHoliday)\n",
        "print(membership_status)\n",
        "\n",
        "if isHoliday:\n",
        "  if membership_status == \"R\":\n",
        "    print(\"Regular Holiday\")\n",
        "    if amount > 50:\n",
        "      total_amount = amount\n",
        "    else:\n",
        "      total_amount = amount + 10\n",
        "\n",
        "  elif membership_status == \"P\":\n",
        "\n",
        "    if amount > 30:\n",
        "      total_amount = amount - 5\n",
        "    else:\n",
        "      total_amount = amount\n",
        "\n",
        "  elif membership_status == \"V\":\n",
        "      total_amount = amount * 0.85\n",
        "else:\n",
        "  if membership_status == \"R\":\n",
        "      print(\"Regular Not Holiday\")\n",
        "      total_amount = amount + 10\n",
        "\n",
        "  elif membership_status == \"P\":\n",
        "    if amount > 30:\n",
        "      total_amount = amount\n",
        "    else:\n",
        "      total_amount = amount + 5\n",
        "\n",
        "  elif membership_status == \"V\":\n",
        "      total_amount = amount * 0.9\n",
        "\n",
        "\n",
        "print(\"Total amount is : \",total_amount)\n",
        "\n"
      ],
      "metadata": {
        "colab": {
          "base_uri": "https://localhost:8080/",
          "height": 399
        },
        "id": "RZqi_EIg4glV",
        "outputId": "6c18e3bf-f344-41ac-f086-2505edd5bc99"
      },
      "execution_count": null,
      "outputs": [
        {
          "output_type": "error",
          "ename": "KeyboardInterrupt",
          "evalue": "Interrupted by user",
          "traceback": [
            "\u001b[0;31m---------------------------------------------------------------------------\u001b[0m",
            "\u001b[0;31mKeyboardInterrupt\u001b[0m                         Traceback (most recent call last)",
            "\u001b[0;32m<ipython-input-15-e6ab54b4c668>\u001b[0m in \u001b[0;36m<cell line: 1>\u001b[0;34m()\u001b[0m\n\u001b[0;32m----> 1\u001b[0;31m \u001b[0mamount\u001b[0m \u001b[0;34m=\u001b[0m \u001b[0mfloat\u001b[0m\u001b[0;34m(\u001b[0m\u001b[0minput\u001b[0m\u001b[0;34m(\u001b[0m\u001b[0;34m\"Total purchase amount \"\u001b[0m\u001b[0;34m)\u001b[0m\u001b[0;34m)\u001b[0m\u001b[0;34m\u001b[0m\u001b[0;34m\u001b[0m\u001b[0m\n\u001b[0m\u001b[1;32m      2\u001b[0m \u001b[0mmembership_status\u001b[0m \u001b[0;34m=\u001b[0m \u001b[0minput\u001b[0m\u001b[0;34m(\u001b[0m\u001b[0;34m\"Enter R for regular membership /n Enter P for Premeium membership /n Enter V for VIP membership \"\u001b[0m\u001b[0;34m)\u001b[0m\u001b[0;34m\u001b[0m\u001b[0;34m\u001b[0m\u001b[0m\n\u001b[1;32m      3\u001b[0m \u001b[0misHoliday\u001b[0m \u001b[0;34m=\u001b[0m \u001b[0mbool\u001b[0m\u001b[0;34m(\u001b[0m\u001b[0mint\u001b[0m\u001b[0;34m(\u001b[0m\u001b[0minput\u001b[0m\u001b[0;34m(\u001b[0m\u001b[0;34m\"Enter 1 for holiday an 0 otherwise \"\u001b[0m\u001b[0;34m)\u001b[0m\u001b[0;34m)\u001b[0m\u001b[0;34m)\u001b[0m\u001b[0;34m\u001b[0m\u001b[0;34m\u001b[0m\u001b[0m\n\u001b[1;32m      4\u001b[0m \u001b[0;34m\u001b[0m\u001b[0m\n\u001b[1;32m      5\u001b[0m \u001b[0mprint\u001b[0m\u001b[0;34m(\u001b[0m\u001b[0misHoliday\u001b[0m\u001b[0;34m)\u001b[0m\u001b[0;34m\u001b[0m\u001b[0;34m\u001b[0m\u001b[0m\n",
            "\u001b[0;32m/usr/local/lib/python3.10/dist-packages/ipykernel/kernelbase.py\u001b[0m in \u001b[0;36mraw_input\u001b[0;34m(self, prompt)\u001b[0m\n\u001b[1;32m    849\u001b[0m                 \u001b[0;34m\"raw_input was called, but this frontend does not support input requests.\"\u001b[0m\u001b[0;34m\u001b[0m\u001b[0;34m\u001b[0m\u001b[0m\n\u001b[1;32m    850\u001b[0m             )\n\u001b[0;32m--> 851\u001b[0;31m         return self._input_request(str(prompt),\n\u001b[0m\u001b[1;32m    852\u001b[0m             \u001b[0mself\u001b[0m\u001b[0;34m.\u001b[0m\u001b[0m_parent_ident\u001b[0m\u001b[0;34m,\u001b[0m\u001b[0;34m\u001b[0m\u001b[0;34m\u001b[0m\u001b[0m\n\u001b[1;32m    853\u001b[0m             \u001b[0mself\u001b[0m\u001b[0;34m.\u001b[0m\u001b[0m_parent_header\u001b[0m\u001b[0;34m,\u001b[0m\u001b[0;34m\u001b[0m\u001b[0;34m\u001b[0m\u001b[0m\n",
            "\u001b[0;32m/usr/local/lib/python3.10/dist-packages/ipykernel/kernelbase.py\u001b[0m in \u001b[0;36m_input_request\u001b[0;34m(self, prompt, ident, parent, password)\u001b[0m\n\u001b[1;32m    893\u001b[0m             \u001b[0;32mexcept\u001b[0m \u001b[0mKeyboardInterrupt\u001b[0m\u001b[0;34m:\u001b[0m\u001b[0;34m\u001b[0m\u001b[0;34m\u001b[0m\u001b[0m\n\u001b[1;32m    894\u001b[0m                 \u001b[0;31m# re-raise KeyboardInterrupt, to truncate traceback\u001b[0m\u001b[0;34m\u001b[0m\u001b[0;34m\u001b[0m\u001b[0m\n\u001b[0;32m--> 895\u001b[0;31m                 \u001b[0;32mraise\u001b[0m \u001b[0mKeyboardInterrupt\u001b[0m\u001b[0;34m(\u001b[0m\u001b[0;34m\"Interrupted by user\"\u001b[0m\u001b[0;34m)\u001b[0m \u001b[0;32mfrom\u001b[0m \u001b[0;32mNone\u001b[0m\u001b[0;34m\u001b[0m\u001b[0;34m\u001b[0m\u001b[0m\n\u001b[0m\u001b[1;32m    896\u001b[0m             \u001b[0;32mexcept\u001b[0m \u001b[0mException\u001b[0m \u001b[0;32mas\u001b[0m \u001b[0me\u001b[0m\u001b[0;34m:\u001b[0m\u001b[0;34m\u001b[0m\u001b[0;34m\u001b[0m\u001b[0m\n\u001b[1;32m    897\u001b[0m                 \u001b[0mself\u001b[0m\u001b[0;34m.\u001b[0m\u001b[0mlog\u001b[0m\u001b[0;34m.\u001b[0m\u001b[0mwarning\u001b[0m\u001b[0;34m(\u001b[0m\u001b[0;34m\"Invalid Message:\"\u001b[0m\u001b[0;34m,\u001b[0m \u001b[0mexc_info\u001b[0m\u001b[0;34m=\u001b[0m\u001b[0;32mTrue\u001b[0m\u001b[0;34m)\u001b[0m\u001b[0;34m\u001b[0m\u001b[0;34m\u001b[0m\u001b[0m\n",
            "\u001b[0;31mKeyboardInterrupt\u001b[0m: Interrupted by user"
          ]
        }
      ]
    },
    {
      "cell_type": "markdown",
      "source": [
        "2. *University Application:*\n",
        "   A university has a program that automatically decides whether an applicant is accepted, waitlisted, or rejected based on their GPA, SAT score, and extracurricular activities count. The conditions are:\n",
        "   - Accepted: GPA > 3.5, SAT > 1400, and more than 3 extracurriculars.\n",
        "   - Waitlisted: GPA > 3.3, SAT > 1300, and 1-3 extracurriculars.\n",
        "   - Rejected: Everything else.\n",
        "   \n",
        "   If the applicant has a GPA > 3.9 and SAT > 1500, they are automatically accepted regardless of extracurriculars.\n"
      ],
      "metadata": {
        "id": "B7GPEZYI9jTg"
      }
    },
    {
      "cell_type": "markdown",
      "source": [
        "6. *Tax Calculator:*\n",
        "   Depending on the income and age of a person, different tax rates are applied. Write a program that:\n",
        "\n",
        "    - Takes an individual's annual income, age, and whether they have any dependents.\n",
        "    - Individuals under 18 years pay no tax.\n",
        "    - Individuals between 18-65:\n",
        "        - Income up to $30,000: 10% tax\n",
        "        - Income $30,001 to $100,000: 20% tax\n",
        "        - Income over $100,000: 30% tax\n",
        "        - If the individual has dependents, reduce the total tax by 5%.\n",
        "    - Individuals over 65:\n",
        "        - Income up to $30,000: 5% tax\n",
        "        - Income $30,001 to $100,000: 15% tax\n",
        "        - Income over $100,000: 25% tax\n",
        "        - If the individual has dependents, reduce the total tax by 3%.\n",
        "        \n",
        "    Calculate and display the total tax."
      ],
      "metadata": {
        "id": "kXopzPPRIHN4"
      }
    },
    {
      "cell_type": "code",
      "source": [
        "age = int(input('Enter Age :'))\n",
        "income = float(input('Enter income: '))\n",
        "dependants = bool(int(input('Enter 1 if you have dependants else 0 : ')))\n",
        "\n",
        "if age < 18:\n",
        "  print('No tax ')\n",
        "elif age >= 18 and age <65:\n",
        "  if income <= 30000:\n",
        "    tax = income * 0.1\n",
        "  elif income > 30000 and income <= 100000:\n",
        "    tax = income * 0.2\n",
        "  else:\n",
        "    tax = income * 0.3\n",
        "\n",
        "  if dependants:\n",
        "    tax = 0.95 * tax\n",
        "\n",
        "elif age >= 65:\n",
        "  if income <= 30000:\n",
        "    tax = income * 0.05\n",
        "  elif income > 30000 and income <= 100000:\n",
        "    tax = income * 0.15\n",
        "  else:\n",
        "    tax = income * 0.25\n",
        "\n",
        "  if dependants:\n",
        "    tax = 0.97 * tax\n",
        "\n",
        "print (tax)\n",
        "\n",
        "\n",
        "\n",
        "\n"
      ],
      "metadata": {
        "id": "mxEn-YGfIV6k"
      },
      "execution_count": null,
      "outputs": []
    },
    {
      "cell_type": "markdown",
      "source": [
        "*E-commerce Shipping:*\n",
        "   An e-commerce platform calculates shipping fees based on the destination (Local, National, International), the weight of the package, and whether the customer is a premium member. The base costs are:\n",
        "   - Local: \\$5\n",
        "   - National: \\$10\n",
        "   - International: \\$20\n",
        "   \n",
        "   Weight Surcharge:\n",
        "   - If the weight is greater than 5kg, there is an additional charge of $10 for Local and National, and \\$20 for International.\n",
        "   \n",
        "   Premium Members:\n",
        "   - Get free Local shipping.\n",
        "   - Get a 50% discount on National and International.\n",
        "\n",
        "   Write a program to calculate the final shipping fee for a given order.\n"
      ],
      "metadata": {
        "id": "eytgVHLhIZad"
      }
    },
    {
      "cell_type": "code",
      "source": [
        "location = input('Enter L for Local, N for national and I for International : ')\n",
        "\n",
        "if location != 'L' or location != 'N' or location != 'I':\n",
        "  print('wrong input')\n",
        "\n",
        "weight = int(input('Enter weight : '))\n",
        "isPremium = bool(int(input('Enter 1 for premium member else 0 : ')))\n",
        "\n",
        "if location == 'L':\n",
        "  shipping = 5\n",
        "elif location == 'N':\n",
        "  shipping = 10\n",
        "elif location == 'I':\n",
        "  shipping = 20\n",
        "\n",
        "if weight > 5:\n",
        "  if location == 'I':\n",
        "    shipping = shipping + 20\n",
        "  else:\n",
        "    shipping = shipping + 10\n",
        "\n",
        "if isPremium:\n",
        "  if location == 'L':\n",
        "    shipping = 0\n",
        "  else:\n",
        "    shipping = shipping * 0.5\n",
        "\n",
        "print(shipping)"
      ],
      "metadata": {
        "id": "WX4R3ArKMMsb"
      },
      "execution_count": null,
      "outputs": []
    },
    {
      "cell_type": "markdown",
      "source": [
        "*University Admissions:*\n",
        "\n",
        "A university considers both an applicant's GPA (0-4 scale) and their SAT score when admitting students. Write a program that:\n",
        "\n",
        "- Takes a student's GPA, SAT score, and whether they have a scholarship recommendation.\n",
        "- Students with a GPA above 3.5 and an SAT score over 1500 are admitted.\n",
        "- Students with a GPA between 3.0 and 3.5 and an SAT score over 1350 are also admitted, but only if they have a scholarship recommendation.\n",
        "- All other students are not admitted.\n",
        "- Display the admission decision for the student.\n"
      ],
      "metadata": {
        "id": "73yvGDpVibN6"
      }
    },
    {
      "cell_type": "code",
      "source": [
        "GPA = float(input('Enter GPA '))\n",
        "SAT = int(input('Enter SAT score '))\n",
        "\n",
        "scholarship = bool(int(input('Enter 1 if student has scholarship recommendation else enter 0 ')))\n",
        "admitted = False\n",
        "\n",
        "if GPA >= 3.5 and SAT > 1500:\n",
        "  admitted = True\n",
        "elif GPA >= 3.0 and GPA < 3.5 and scholarship:\n",
        "  admitted = True\n",
        "\n",
        "print(admitted)"
      ],
      "metadata": {
        "id": "aSNiPWMMdMhf"
      },
      "execution_count": null,
      "outputs": []
    },
    {
      "cell_type": "markdown",
      "source": [
        "1. *Flight Booking:*\n",
        "   A flight booking system requires a program that takes into account the age of the passenger, the class of the ticket (Economy, Business, First Class), and the day of the week. The ticket price varies as:\n",
        "   - Economy: \\$100 (weekday), \\$120 (weekend)\n",
        "   - Business: \\$200 (weekday), \\$250 (weekend)\n",
        "   - First Class: \\$500 (weekday), \\$600 (weekend)\n",
        "   \n",
        "   However:\n",
        "   - Children (0-12) get a 50% discount, regardless of the class.\n",
        "   - Seniors (60+) get a 30% discount, but only in Economy and Business classes.\n",
        "   \n",
        "   Write a program to determine the ticket price based on these conditions.\n",
        "\n"
      ],
      "metadata": {
        "id": "bn3wWLKCa4Wj"
      }
    },
    {
      "cell_type": "code",
      "source": [
        "age = int(input(\"Enter age: \"))\n",
        "guestClass = input(\"eneter E for Economy , B for Buisness and F for First: \")\n",
        "weekend = bool(int(input(\"Enter 1 for weekend and 0 for weekday: \")))\n",
        "\n",
        "if guestClass == \"E\":\n",
        "  if weekend:\n",
        "    cost = 120\n",
        "  else:\n",
        "    cost = 100\n",
        "elif guestClass == \"B\":\n",
        "  if weekend:\n",
        "    cost = 250\n",
        "  else:\n",
        "    cost = 200\n",
        "elif guestClass == \"F\":\n",
        "  if weekend:\n",
        "    cost = 600\n",
        "  else:\n",
        "    cost = 500\n",
        "\n",
        "if age >= 0 and age <= 12:\n",
        "  cost = cost/2\n",
        "elif age > 60:\n",
        "  cost = cost * 0.7\n",
        "\n",
        "print(\"Cost of ticket is: \", cost)\n",
        "\n"
      ],
      "metadata": {
        "id": "uhc2OsLwu_61"
      },
      "execution_count": null,
      "outputs": []
    },
    {
      "cell_type": "markdown",
      "source": [
        "2. *University Application:*\n",
        "   A university has a program that automatically decides whether an applicant is accepted, waitlisted, or rejected based on their GPA, SAT score, and extracurricular activities count. The conditions are:\n",
        "   - Accepted: GPA > 3.5, SAT > 1400, and more than 3 extracurriculars.\n",
        "   - Waitlisted: GPA > 3.3, SAT > 1300, and 1-3 extracurriculars.\n",
        "   - Rejected: Everything else.\n",
        "   \n",
        "   If the applicant has a GPA > 3.9 and SAT > 1500, they are automatically accepted regardless of extracurriculars.\n"
      ],
      "metadata": {
        "id": "h9If9nKza7ip"
      }
    },
    {
      "cell_type": "markdown",
      "source": [
        "### done above"
      ],
      "metadata": {
        "id": "BIea1sh1Syh1"
      }
    },
    {
      "cell_type": "markdown",
      "source": [
        "3. *Bank Loan Approval:*\n",
        "   A bank offers loans to customers based on their salary, years of employment, and existing debts. The bank's conditions are:\n",
        "   - Loan Approved: Salary > \\$50000, employed for more than 5 years, and no existing debts.\n",
        "   \n",
        "   However:\n",
        "   - If the person has a salary > \\$80000, they're approved even if they have been employed for 2-5 years, but only if they have no debts.\n",
        "   - If the person has a salary < \\$30000, they're automatically rejected regardless of other conditions.\n",
        "   \n"
      ],
      "metadata": {
        "id": "M5vBl7evc7qo"
      }
    },
    {
      "cell_type": "code",
      "source": [
        "salary = int(input(\"Enter salary in digits: \"))\n",
        "yearsEmployed = int(input(\"Enter how many years have you been employed: \"))\n",
        "debt = bool(int(input('enter 1 if debts else 0: ')))\n",
        "\n",
        "\n",
        "\n",
        "if salary < 30000:\n",
        "  approved = False\n",
        "elif salary >= 50000 and yearsEmployed >= 5 and not debt:\n",
        "  approved = True\n",
        "elif salary >= 80000 and yearsEmployed >= 2 and not debt:\n",
        "  approved = True\n",
        "\n",
        "\n",
        "\n",
        "\n",
        "\n",
        "\n",
        "\n",
        "if approved:\n",
        "  print(\"Loan approved\")\n",
        "else:\n",
        "  print(\"Loan not approved\")"
      ],
      "metadata": {
        "id": "zESg3eBrt6jq"
      },
      "execution_count": null,
      "outputs": []
    },
    {
      "cell_type": "markdown",
      "source": [
        "5. *Temperature Alert System:*\n",
        "   A system monitors the temperature and humidity of a room. It will raise alerts based on the following conditions:\n",
        "   - If the temperature is above 30°C and humidity is above 70%, raise a \"High Temperature & Humidity\" alert.\n",
        "   - If the temperature is above 30°C but humidity is below 50%, raise a \"High Temperature\" alert.\n",
        "   - If the temperature is below 10°C and humidity is above 80%, raise a \"Low Temperature & High Humidity\" alert.\n",
        "   - For any other combination, raise a \"Normal\" alert.\n"
      ],
      "metadata": {
        "id": "AFfUMaS_dCwK"
      }
    },
    {
      "cell_type": "code",
      "source": [
        "temp = int(input(\"enter temperature: \"))\n",
        "hum = int(input(\"enter humidity: \"))\n",
        "\n",
        "if temp > 30 and hum > 70:\n",
        "  print(\"High Temperature & Humidity\")\n",
        "elif temp > 30 and hum < 50:\n",
        "  print(\"High Temperature\")\n",
        "elif temp < 10 and hum > 80:\n",
        "  print(\"Low Temperature & High Humidity\")\n",
        "else:\n",
        "  print(\"Normal\")\n",
        "\n"
      ],
      "metadata": {
        "id": "UAUZGvpoUwp7"
      },
      "execution_count": null,
      "outputs": []
    },
    {
      "cell_type": "markdown",
      "source": [
        "# Loops"
      ],
      "metadata": {
        "id": "6oASg8pyG_q4"
      }
    },
    {
      "cell_type": "code",
      "source": [
        "a = 5\n",
        "while a > 1:\n",
        "  a -= 1\n",
        "  print(a)\n",
        "\n",
        "print(\"\\n\")\n",
        "while 1:\n",
        "  print (\"1\")\n",
        "  break\n",
        "\n"
      ],
      "metadata": {
        "id": "_jG76u5LHp1e"
      },
      "execution_count": null,
      "outputs": []
    },
    {
      "cell_type": "code",
      "source": [
        "## for loop\n",
        "## range object : take 3 values\n",
        "## range(START, END, STEP)\n",
        "\n",
        "list(range(4))\n",
        "list(range(1,11))"
      ],
      "metadata": {
        "id": "0bfqJgk1IETL"
      },
      "execution_count": null,
      "outputs": []
    },
    {
      "cell_type": "code",
      "source": [
        "list(range(0,9,3))"
      ],
      "metadata": {
        "id": "ACJh865IJc4D"
      },
      "execution_count": null,
      "outputs": []
    },
    {
      "cell_type": "code",
      "source": [
        "list(range(10,0,-1))"
      ],
      "metadata": {
        "id": "rjLp28-LKLV5"
      },
      "execution_count": null,
      "outputs": []
    },
    {
      "cell_type": "code",
      "source": [
        "for i in range(5):\n",
        "  print(i)"
      ],
      "metadata": {
        "id": "FNPJ4u4JKVId"
      },
      "execution_count": null,
      "outputs": []
    },
    {
      "cell_type": "code",
      "source": [
        "for i in [\"str1\",\"str2\"]:\n",
        "  print(i)"
      ],
      "metadata": {
        "id": "bENHAv1PKpk_"
      },
      "execution_count": null,
      "outputs": []
    },
    {
      "cell_type": "code",
      "source": [
        "l = [10,20,30,40]\n",
        "\n",
        "for ele in l:\n",
        "  print(ele)"
      ],
      "metadata": {
        "id": "wrGK_6jxLGEd"
      },
      "execution_count": null,
      "outputs": []
    },
    {
      "cell_type": "code",
      "source": [
        "for i in range(len(l)):\n",
        "  print(l[i])"
      ],
      "metadata": {
        "id": "FPG0BucHLZoj"
      },
      "execution_count": null,
      "outputs": []
    },
    {
      "cell_type": "code",
      "source": [
        "for nums in range(2,12):\n",
        "  print(nums)"
      ],
      "metadata": {
        "id": "3o2HQ3dQLofE"
      },
      "execution_count": null,
      "outputs": []
    },
    {
      "cell_type": "code",
      "source": [
        "for nums in range(17,4,-2):\n",
        "  print(nums)"
      ],
      "metadata": {
        "id": "0ogyeXgWMTTv"
      },
      "execution_count": null,
      "outputs": []
    },
    {
      "cell_type": "code",
      "source": [
        "l = [12,21,14,36,44]\n",
        "\n",
        "num = int(input(\"enter a number: \"))\n",
        "\n",
        "present = False\n",
        "for nums in l:\n",
        "  if num == nums:\n",
        "    present = True\n",
        "    break\n",
        "\n",
        "if present:\n",
        "  print(\"Number is present in the list\")\n",
        "else:\n",
        "  print(\"Number is not present in the list\")\n",
        "\n",
        "\n"
      ],
      "metadata": {
        "id": "A0lyq-lOMf4u"
      },
      "execution_count": null,
      "outputs": []
    },
    {
      "cell_type": "code",
      "source": [
        "l = [12,21,14,36,44]\n",
        "\n",
        "num = int(input(\"enter a number: \"))\n",
        "\n",
        "for nums in l:\n",
        "  if num == nums:\n",
        "    print(\"Number is present in the list\")\n",
        "    break # if break is encoutered it wont execute the else block\n",
        "else:\n",
        "  print(\"not present\")\n",
        "\n"
      ],
      "metadata": {
        "id": "aW0-hQy7NbSG"
      },
      "execution_count": null,
      "outputs": []
    },
    {
      "cell_type": "code",
      "source": [
        "l.index(14)"
      ],
      "metadata": {
        "id": "oHtRKNUiOCiI"
      },
      "execution_count": null,
      "outputs": []
    },
    {
      "cell_type": "code",
      "source": [
        "l = [12,21,14,36,44]\n",
        "\n",
        "num = int(input(\"enter a number: \"))\n",
        "\n",
        "for nums in l:\n",
        "  if num == nums:\n",
        "    print(\"Number is present in the list at index\",l.index(num),\".\")\n",
        "    break # if break is encoutered it wont execute the else block\n",
        "else:\n",
        "  print(\"not present\")"
      ],
      "metadata": {
        "id": "cKYKjrLpOu2X"
      },
      "execution_count": null,
      "outputs": []
    },
    {
      "cell_type": "code",
      "source": [
        "l = [12,21,14,36,44]\n",
        "\n",
        "num = int(input(\"enter a number: \"))\n",
        "\n",
        "if num in l:\n",
        "  print(\"Number is present in the list at index\",l.index(num),\".\")\n",
        "else:\n",
        "  print(\"not present\")"
      ],
      "metadata": {
        "id": "BkkFVjcCPA0u"
      },
      "execution_count": null,
      "outputs": []
    },
    {
      "cell_type": "code",
      "source": [
        "l1 = [2,3,5,7,11]\n",
        "l2 = [1,2,3,4,5]\n",
        "\n",
        "common = []\n",
        "\n",
        "for ele in l1:\n",
        "  if ele in l2:\n",
        "    common.append(ele)\n",
        "\n",
        "print(common)\n"
      ],
      "metadata": {
        "id": "Do6-kJt9PdGY"
      },
      "execution_count": null,
      "outputs": []
    },
    {
      "cell_type": "code",
      "source": [
        "l = [1,2,3,4]\n",
        "k = []\n",
        "\n",
        "for i in l:\n",
        "  k.append(10 + i)\n",
        "\n",
        "print(k)"
      ],
      "metadata": {
        "id": "l-0bG3EkPq_2"
      },
      "execution_count": null,
      "outputs": []
    },
    {
      "cell_type": "code",
      "source": [
        "l = [1,2,3,4]\n",
        "k = [i + 10 for i in l]\n",
        "\n",
        "print(k)\n"
      ],
      "metadata": {
        "id": "K4cceiuvQ2uQ"
      },
      "execution_count": null,
      "outputs": []
    },
    {
      "cell_type": "code",
      "source": [
        "l = [1,2,3,4]\n",
        "k = [i + 10 for i in l if i > 2]\n",
        "\n",
        "print(k)"
      ],
      "metadata": {
        "id": "buz5dWP_RYOQ"
      },
      "execution_count": null,
      "outputs": []
    },
    {
      "cell_type": "markdown",
      "source": [
        "Question 1: Write a Python program that asks the user to enter a number and then prints all the even numbers from 2 to that number using a while loop.\n",
        "\n",
        "Sample Output:\n",
        "\n",
        "Enter a number: 7\n",
        "Even numbers from 2 to 7:\n",
        "2\n",
        "4\n",
        "6\n"
      ],
      "metadata": {
        "id": "dJJ_-2A3R7QJ"
      }
    },
    {
      "cell_type": "code",
      "source": [
        "c = int(input(\"Enter a positive integer: \"))\n",
        "i = 2;\n",
        "while(i < c):\n",
        "  print(i)\n",
        "  i = i + 1"
      ],
      "metadata": {
        "id": "xlxfYM--Szi5"
      },
      "execution_count": null,
      "outputs": []
    },
    {
      "cell_type": "markdown",
      "source": [
        "Question 2: Write a Python program that asks the user to enter a positive integer and then prints the sum of all the integers from 1 to that number using a while loop.\n",
        "\n",
        "Sample Output:\n",
        "\n",
        "Enter a positive integer: 5\n",
        "Sum of integers from 1 to 5: 15\n"
      ],
      "metadata": {
        "id": "vFTkA9UoR_za"
      }
    },
    {
      "cell_type": "code",
      "source": [
        "a = int(input(\"Enter a positive integer: \"))\n",
        "sum = 0\n",
        "for i in range(0,a):\n",
        "  sum = sum + i + 1\n",
        "\n",
        "print(sum)"
      ],
      "metadata": {
        "id": "FTllF-uGS0Ti"
      },
      "execution_count": null,
      "outputs": []
    },
    {
      "cell_type": "markdown",
      "source": [
        "Question 3: Write a Python program that prints the first 10 natural numbers (1 to 10) in reverse order using a while loop.\n",
        "\n",
        "Sample Output:\n",
        "\n",
        "10\n",
        "9\n",
        "8\n",
        "7\n",
        "6\n",
        "5\n",
        "4\n",
        "3\n",
        "2\n",
        "1\n",
        "\n"
      ],
      "metadata": {
        "id": "u-Ef3Vo_SAJG"
      }
    },
    {
      "cell_type": "code",
      "source": [
        "i = 10\n",
        "while(i >= 1):\n",
        "  print(i)\n",
        "  i = i - 1"
      ],
      "metadata": {
        "id": "bwi_55BGS04r"
      },
      "execution_count": null,
      "outputs": []
    },
    {
      "cell_type": "markdown",
      "source": [
        "Question 4: Write a Python program that asks the user to enter a number and prints whether it is even or odd. Continue asking for numbers until the user enters 0, then stop the program.\n",
        "\n",
        "Sample Output:\n",
        "\n",
        "Enter a number (0 to quit): 7\n",
        "7 is odd.\n",
        "Enter a number (0 to quit): 4\n",
        "4 is even.\n",
        "Enter a number (0 to quit): 0\n",
        "Program terminated.\n",
        "\n",
        "\n",
        "\n"
      ],
      "metadata": {
        "id": "pxT5cGd4SAW_"
      }
    },
    {
      "cell_type": "code",
      "source": [
        "while(1):\n",
        "  a = int(input(\"Enter a number (0 to quit): \"))\n",
        "  if(a == 0):\n",
        "    break\n",
        "  else:\n",
        "    if(a%2 == 0):\n",
        "      print(\"Even number\")\n",
        "    else:\n",
        "      print(\"Odd Number\")\n"
      ],
      "metadata": {
        "id": "sDL5Xk8yS1Yz"
      },
      "execution_count": null,
      "outputs": []
    },
    {
      "cell_type": "markdown",
      "source": [
        "Question 5: Write a Python program that prints all the multiples of 7 from 1 to 100 using a while loop.\n",
        "\n",
        "Sample Output:\n",
        "\n",
        "7\n",
        "14\n",
        "21\n",
        "28\n",
        "35\n",
        "...\n",
        "91\n",
        "98"
      ],
      "metadata": {
        "id": "YtH05jr-SAgq"
      }
    },
    {
      "cell_type": "code",
      "source": [
        "i = 7\n",
        "while(i <= 100):\n",
        "  if(i%7 == 0):\n",
        "    print(i)\n",
        "  i = i + 1\n"
      ],
      "metadata": {
        "id": "1nv1VhhZS12_"
      },
      "execution_count": null,
      "outputs": []
    },
    {
      "cell_type": "markdown",
      "source": [
        "Question 6: Write a Python program that calculates and prints the factorial of a number entered by the user using a while loop.\n",
        "\n",
        "Sample Output:\n",
        "\n",
        "Enter a number: 5\n",
        "Factorial of 5 is 120\n"
      ],
      "metadata": {
        "id": "DVVQD80BSAqe"
      }
    },
    {
      "cell_type": "code",
      "source": [
        "a = int(input(\"Enter an integer: \"))\n",
        "fact = 1\n",
        "while(a > 1):\n",
        "  fact = fact * a\n",
        "  a = a - 1\n",
        "\n",
        "fact"
      ],
      "metadata": {
        "id": "rxFZl5jmTCAA"
      },
      "execution_count": null,
      "outputs": []
    },
    {
      "cell_type": "markdown",
      "source": [
        "Question 8.1: Write a Python program that prints all the prime numbers between 1 and 50 using a while loop.\n",
        "\n",
        "Question 8.2: Later on as an additional question, modify this code to add support for user input. so that it finds the Prime number from 1 to user input.\n",
        "\n",
        "Question 8.3: Also you can add support for two user inputs so that it finds prime numbers from user input 1 to user input 2."
      ],
      "metadata": {
        "id": "3b9y31WNS2ch"
      }
    },
    {
      "cell_type": "code",
      "source": [
        "a = int(input(\"Enter a number: \"))\n",
        "b = int(input(\"Enter a number: \"))\n",
        "\n",
        "def isPrime(n):\n",
        "  if(n == 1):\n",
        "    return False\n",
        "  i = 2\n",
        "  while(i < n):\n",
        "    if(n % i == 0):\n",
        "      return False\n",
        "    i = i + 1\n",
        "  return True\n",
        "\n",
        "\n",
        "while(b <= a):\n",
        "  if(isPrime(b)):\n",
        "    print(b)\n",
        "  b = b + 1\n",
        "\n",
        "\n"
      ],
      "metadata": {
        "id": "nKxTToX1TdYd"
      },
      "execution_count": null,
      "outputs": []
    },
    {
      "cell_type": "markdown",
      "source": [
        "1Question 9: Write a Python program that calculates and prints the sum of all integers from 1 to 100 that are divisible by 3 using a while loop."
      ],
      "metadata": {
        "id": "XOqdceojSAyz"
      }
    },
    {
      "cell_type": "code",
      "source": [
        "n = 100\n",
        "sum = 0\n",
        "while(n > 1):\n",
        "  if(n % 3 == 0):\n",
        "    sum = sum + n\n",
        "  n = n - 1\n",
        "\n",
        "sum"
      ],
      "metadata": {
        "id": "9lb7fBMOTd9c"
      },
      "execution_count": null,
      "outputs": []
    },
    {
      "cell_type": "markdown",
      "source": [
        "Question 10: Write a Python program that calculates and prints the Fibonacci sequence up to a specified number of terms. The user should enter the number of terms they want to generate."
      ],
      "metadata": {
        "id": "70VRVMfuSA8N"
      }
    },
    {
      "cell_type": "code",
      "source": [
        "i = int(input(\"Enter number of fibo: \"))\n",
        "a = 0\n",
        "b = 1\n",
        "c = b\n",
        "\n",
        "while(i >= 1):\n",
        "  print(c)\n",
        "  a = b\n",
        "  b = c\n",
        "\n",
        "  c = a + b\n",
        "\n",
        "  i = i - 1\n"
      ],
      "metadata": {
        "id": "2nCoTb6ITeYe",
        "colab": {
          "base_uri": "https://localhost:8080/"
        },
        "outputId": "c6f02449-b903-4679-b7ec-65b031b80a21"
      },
      "execution_count": null,
      "outputs": [
        {
          "output_type": "stream",
          "name": "stdout",
          "text": [
            "Enter number of fibo: 5\n",
            "1\n",
            "2\n",
            "3\n",
            "5\n",
            "8\n"
          ]
        }
      ]
    },
    {
      "cell_type": "markdown",
      "source": [
        "Question 11: Calculate the sum of digits of a number given by user. E.g.-\n",
        "INUPT : 123        OUPUT : 6\n",
        "INUPT : 12345        OUPUT : 15\n",
        "\n",
        "\n"
      ],
      "metadata": {
        "id": "-Irs1SsTTSNy"
      }
    },
    {
      "cell_type": "code",
      "source": [
        "a = int(input(\"Enter a numb \"))\n",
        "sum = 0\n",
        "while(a > 9):\n",
        "  dig = a % 10\n",
        "  sum = sum + dig\n",
        "  a = a / 10\n",
        "\n"
      ],
      "metadata": {
        "id": "hgtwjHqiEMv1"
      },
      "execution_count": null,
      "outputs": []
    },
    {
      "cell_type": "markdown",
      "source": [
        "Question 12: A three digit number is called Armstrong number if sum of cube of its digit is equal to number itself.\n",
        "E.g.- 153 is an Armstrong number because (13)+(53)+(33) = 153.\n",
        "Write all Armstrong numbers between 100 to 500.\n",
        "\n",
        "\n"
      ],
      "metadata": {
        "id": "yHa0xnlHTUL3"
      }
    },
    {
      "cell_type": "code",
      "source": [],
      "metadata": {
        "id": "7qNUKV14TfZA"
      },
      "execution_count": null,
      "outputs": []
    },
    {
      "cell_type": "markdown",
      "source": [
        "Question 13:  Write a program to print a number given by user but digits reversed. E.g.-\n",
        "INPUT : 123        OUTPUT : 321\n",
        "INPUT : 12345        OUTPUT : 54321\n",
        "\n",
        "\n"
      ],
      "metadata": {
        "id": "x4Zpk_8VTVbX"
      }
    },
    {
      "cell_type": "code",
      "source": [],
      "metadata": {
        "id": "MVO_0NPdTf61"
      },
      "execution_count": null,
      "outputs": []
    },
    {
      "cell_type": "markdown",
      "source": [
        "Question 14:  Write a program to find prime factor of a number.\n",
        "If a factor of a number is prime number then it is its prime factor.\n",
        "\n",
        "\n"
      ],
      "metadata": {
        "id": "2JwRtukcTW25"
      }
    },
    {
      "cell_type": "code",
      "source": [],
      "metadata": {
        "id": "UIbJw-CXTgTZ"
      },
      "execution_count": null,
      "outputs": []
    },
    {
      "cell_type": "markdown",
      "source": [
        "Question 15: Write a program to print all prime number in between 1 to 100."
      ],
      "metadata": {
        "id": "mzxhsDXZTYOo"
      }
    },
    {
      "cell_type": "code",
      "source": [
        "## done above"
      ],
      "metadata": {
        "id": "iLlnwd6hTg03"
      },
      "execution_count": null,
      "outputs": []
    },
    {
      "cell_type": "code",
      "source": [
        "### topics : lists, dictionaries and functions\n",
        "\n"
      ],
      "metadata": {
        "id": "WJd2pfQBRex_"
      },
      "execution_count": null,
      "outputs": []
    },
    {
      "cell_type": "code",
      "source": [
        "###Replace every occurrence of Math, Maths, Mathematics, Mathematic, math, maths, mathematics, mathematic with MATH\n",
        "\n",
        "\n",
        "\n",
        "\n",
        "s = '''\n",
        "\n",
        "\n",
        "\n",
        "Maths is a subject which is not only applicable in our academics but also in real life. Making kids love this subject is a challenge, especially for parents. It takes a lot of brainpower to master Maths and this can be tough for kids. Some students may find Maths hard to learn. Thus, BYJU’S presents here a simple and easy way for kids and higher class students to learn Maths, interestingly. The Maths basics here, becomes the solver to solve fundamental arithmetic calculations.\n",
        "\n",
        "Online Maths for free has been brought here for the ease of students so that they can get access to each and every fundamental concept and learn quickly. We have provided Maths learning materials for all the standards (Standard 1 to 12). Also, Maths questions with solutions are given for each concept to help the students understand better. Practice Maths here with the given examples and practice questions for all the Classes from 1 to 12. For better practice, worksheets are also provided by us, so that students can excel in the concepts.\n",
        "\n",
        "In mapping Maths, we will come across many concepts. The origin or base of Maths is Counting, where we learned to count the objects that are visible to our eye. Mathematics are broadly classified into two groups: Pure Mathematics (number system, geometry, matrix, algebra, combinatorics, topology, calculus) and Applied Mathematics (Engineering, Chemistry, Physics, numerical analysis, etc).\n",
        "\n",
        "Maths has a lot of formulas based on different concepts. These formulas can be memorized by practising questions based on them. Some problems can be solved quickly, using Maths tricks. Class 1 to 10 has been taught with the general mathematical concepts, but its level increases in Class 11 and 12.\n",
        "\n",
        "Mathematics is the science and study of quality, structure, space, and change. Mathematicians seek out patterns, formulate new conjectures, and establish truth by rigorous deduction from appropriately chosen axioms and definitions.\n",
        "\n",
        "There is debate over whether mathematical objects such as numbers and points exist naturally or are human creations. The mathematician Benjamin Peirce called mathematics \"the science that draws necessary conclusions\". Albert Einstein, on the other hand, stated that \"as far as the laws of mathematics refer to reality, they are not certain; and as far as they are certain, they do not refer to reality.\"\n",
        "\n",
        "Through abstraction and logical reasoning mathematics evolved from counting, calculation, measurement, and the systematic study of the shapes and motions of physical objects. Practical mathematics has been a human activity for as far back as written records exist. Rigorous arguments first appeared in Greek mathematics, most notably in Euclid's Elements. Mathematics continued to develop, in fitful bursts, until the Renaissance, when mathematical innovations interacted with new scientific discoveries, leading to an acceleration in research that continues to the present day.\n",
        "\n",
        "Today, mathematics is used throughout the world as an essential tool in many fields, including natural science, engineering, medicine, and the social sciences. Applied mathematics, the branch of mathematics concerned with application of mathematical knowledge to other fields, inspires and makes use of new mathematical discoveries and sometimes leads to the development of entirely new disciplines. Mathematicians also engage in pure mathematics, or mathematics for its own sake, without having any application in mind, although practical applications for what began as pure mathematics are often discovered later.\n",
        "\n",
        "Mathematics is the study of quantity, pattern, order, structure, and relation. It involves applying logical reasoning and quantitative computation to find solutions to problems. Mathematics includes topics such as numbers, formulas, shapes, and quantities and their changes.\n",
        "Mathematics has evolved from basic practices such as counting, measuring, and describing the shapes of objects. Mathematicians seek out patterns, formulate new conjectures, and establish truth by rigorous deduction from axioms and definitions.\n",
        "Mathematics is often considered a hard subject. However, not all difficulties with the subject result from cognitive difficulties.\n",
        "\n",
        "\n",
        "\n",
        "\n",
        "'''"
      ],
      "metadata": {
        "id": "WL5ylIZ-3wmt"
      },
      "execution_count": null,
      "outputs": []
    },
    {
      "cell_type": "code",
      "source": [
        "def replace_math_terms(text):\n",
        "    replacements = {\"Maths\": \"MATH\", \"Mathematics\": \"MATH\", \"Mathematic\": \"MATH\",\"maths\": \"MATH\", \"mathematics\": \"MATH\", \"mathematic\": \"MATH\",\"Math\": \"MATH\", \"math\": \"MATH\"}\n",
        "\n",
        "    for key, value in replacements.items():\n",
        "        text = text.replace(key, value)\n",
        "\n",
        "    return text\n",
        "\n",
        "\n",
        "replaced_text = replace_math_terms(s)\n",
        "print(replaced_text)"
      ],
      "metadata": {
        "id": "ZBHZ8cBj4rNp"
      },
      "execution_count": null,
      "outputs": []
    },
    {
      "cell_type": "code",
      "source": [
        "listOne = [1,2,3,4,5,6]"
      ],
      "metadata": {
        "id": "2_NcsDzF9TG0"
      },
      "execution_count": null,
      "outputs": []
    },
    {
      "cell_type": "code",
      "source": [
        "listOne[4]"
      ],
      "metadata": {
        "id": "mbVaRZZBCWfB"
      },
      "execution_count": null,
      "outputs": []
    },
    {
      "cell_type": "code",
      "source": [
        "listOne[2:5]"
      ],
      "metadata": {
        "id": "ChcMUZdJCbR5"
      },
      "execution_count": null,
      "outputs": []
    },
    {
      "cell_type": "code",
      "source": [
        "listOne[2:]"
      ],
      "metadata": {
        "id": "Bpaos2OiCjiv"
      },
      "execution_count": null,
      "outputs": []
    },
    {
      "cell_type": "code",
      "source": [
        "listOne[:4]"
      ],
      "metadata": {
        "id": "hgeBaMIOC2W4"
      },
      "execution_count": null,
      "outputs": []
    },
    {
      "cell_type": "code",
      "source": [
        "listOne[1:6:2]"
      ],
      "metadata": {
        "id": "1KDj9ACYC-ip"
      },
      "execution_count": null,
      "outputs": []
    },
    {
      "cell_type": "code",
      "source": [
        "listOne[::2]"
      ],
      "metadata": {
        "id": "ohqMbwpNDMaa"
      },
      "execution_count": null,
      "outputs": []
    },
    {
      "cell_type": "code",
      "source": [
        "listOne[::-1]"
      ],
      "metadata": {
        "id": "nKSSTFCSDW1T"
      },
      "execution_count": null,
      "outputs": []
    },
    {
      "cell_type": "code",
      "source": [
        "# also works for string,tuple,array (anything with indexing)"
      ],
      "metadata": {
        "id": "zknyYbCmDgoy"
      },
      "execution_count": null,
      "outputs": []
    },
    {
      "cell_type": "code",
      "source": [
        "listOne[3] = 77\n",
        "print(listOne)"
      ],
      "metadata": {
        "id": "wEli0k6rD0My"
      },
      "execution_count": null,
      "outputs": []
    },
    {
      "cell_type": "code",
      "source": [
        "listOne"
      ],
      "metadata": {
        "id": "jLXy8wX7Ekig"
      },
      "execution_count": null,
      "outputs": []
    },
    {
      "cell_type": "code",
      "source": [
        "listOne[-1]"
      ],
      "metadata": {
        "id": "iYlo56ZgE0zP"
      },
      "execution_count": null,
      "outputs": []
    },
    {
      "cell_type": "code",
      "source": [
        "listOne[-1:-3:-1]"
      ],
      "metadata": {
        "id": "bc9R3E7xE81P"
      },
      "execution_count": null,
      "outputs": []
    },
    {
      "cell_type": "code",
      "source": [
        "listOne[-2:]"
      ],
      "metadata": {
        "id": "rq_wtPGbFBA1"
      },
      "execution_count": null,
      "outputs": []
    },
    {
      "cell_type": "code",
      "source": [
        "listOne[3] = [78,78]"
      ],
      "metadata": {
        "id": "fr7dH3tSFc_k"
      },
      "execution_count": null,
      "outputs": []
    },
    {
      "cell_type": "code",
      "source": [
        "listOne"
      ],
      "metadata": {
        "id": "Eni0PAGSF57W"
      },
      "execution_count": null,
      "outputs": []
    },
    {
      "cell_type": "code",
      "source": [
        "listOne[4:5] = [88,89]"
      ],
      "metadata": {
        "id": "9RAVQ3YAF-Jw"
      },
      "execution_count": null,
      "outputs": []
    },
    {
      "cell_type": "code",
      "source": [
        "listOne"
      ],
      "metadata": {
        "id": "s5OCVdV3GKTv"
      },
      "execution_count": null,
      "outputs": []
    },
    {
      "cell_type": "code",
      "source": [
        "listOne.append(7)"
      ],
      "metadata": {
        "id": "t5_6WKCQGLLt"
      },
      "execution_count": null,
      "outputs": []
    },
    {
      "cell_type": "code",
      "source": [
        "listOne"
      ],
      "metadata": {
        "id": "_tOFo9FmGer9"
      },
      "execution_count": null,
      "outputs": []
    },
    {
      "cell_type": "code",
      "source": [
        "listOne.insert(3,95)"
      ],
      "metadata": {
        "id": "YL7wPRtnGfwt"
      },
      "execution_count": null,
      "outputs": []
    },
    {
      "cell_type": "code",
      "source": [
        "listOne"
      ],
      "metadata": {
        "id": "qtV5GBHVGwj3"
      },
      "execution_count": null,
      "outputs": []
    },
    {
      "cell_type": "code",
      "source": [
        "listOne.insert(1000,101)"
      ],
      "metadata": {
        "id": "g6rgGYjzGxsg"
      },
      "execution_count": null,
      "outputs": []
    },
    {
      "cell_type": "code",
      "source": [
        "listOne"
      ],
      "metadata": {
        "id": "J4KhB9IcHKVW"
      },
      "execution_count": null,
      "outputs": []
    },
    {
      "cell_type": "code",
      "source": [
        "del listOne[4]\n",
        "listOne"
      ],
      "metadata": {
        "id": "dyLEACpvHLG7"
      },
      "execution_count": null,
      "outputs": []
    },
    {
      "cell_type": "code",
      "source": [
        "listOne.pop()"
      ],
      "metadata": {
        "id": "A5xxqKWGHuTb"
      },
      "execution_count": null,
      "outputs": []
    },
    {
      "cell_type": "code",
      "source": [
        "len(listOne)"
      ],
      "metadata": {
        "id": "YF_gd0TrH1fX"
      },
      "execution_count": null,
      "outputs": []
    },
    {
      "cell_type": "code",
      "source": [
        "l1 = [1,2,3,4,5]\n",
        "l2 = [7,8,9,10,11]"
      ],
      "metadata": {
        "id": "c-qFmPw9IBgp"
      },
      "execution_count": null,
      "outputs": []
    },
    {
      "cell_type": "code",
      "source": [
        "l1 + l2"
      ],
      "metadata": {
        "id": "Qxq49B4dINQL"
      },
      "execution_count": null,
      "outputs": []
    },
    {
      "cell_type": "code",
      "source": [
        "a = [\"ele\"]*50"
      ],
      "metadata": {
        "id": "UhPZ3GgpIRC6"
      },
      "execution_count": null,
      "outputs": []
    },
    {
      "cell_type": "code",
      "source": [
        "l = [-1, 1, 2, 8, 3, 5, -77, 4, -200, -201, 99, 0, 1, 5, -100, -200]\n",
        "l = []\n",
        "minimumInt = 999\n",
        "indexMin = 999\n",
        "for i in range(len(l)):\n",
        "  if(l[i] < minimumInt):\n",
        "    minimumInt = l[i]\n",
        "    indexMin = i\n",
        "\n",
        "indexMin\n"
      ],
      "metadata": {
        "id": "sZfEWhSNIkHX"
      },
      "execution_count": null,
      "outputs": []
    },
    {
      "cell_type": "code",
      "source": [
        "l1 = [1,2,3,4,5]\n",
        "l2 = [7,8,9,10,11,12]\n",
        "\n",
        "list(zip(l1,l2))"
      ],
      "metadata": {
        "id": "5TJemfxTJow3"
      },
      "execution_count": null,
      "outputs": []
    },
    {
      "cell_type": "code",
      "source": [
        "[(i,j) for i, j in zip(l1,l2)]"
      ],
      "metadata": {
        "id": "y-3gKZefLob8"
      },
      "execution_count": null,
      "outputs": []
    },
    {
      "cell_type": "code",
      "source": [
        "l = [-1, 1, 2, 8, 3, 5, -77, 4, -200, -201, 99, 0, 1, 5, -100, -200]\n",
        "sorted(l)"
      ],
      "metadata": {
        "id": "WiVmWNBTMO2j"
      },
      "execution_count": null,
      "outputs": []
    },
    {
      "cell_type": "code",
      "source": [
        "# Sort two list on the basis of first\n",
        "# Sorting with Zip and List comprehensions\n",
        "l1 = [5, 4, 1, 3, 0]\n",
        "l2 = [\"str1\", \"str2\", \"str3\", \"str4\", \"str5\"]\n",
        "\n",
        "l3 = zip(l1,l2)\n",
        "l3 = sorted(l3)\n",
        "\n",
        "# l4 = []\n",
        "# for i in range(len(l3)):\n",
        "#   l4.append(l3[i][1])\n",
        "\n",
        "l3 = [item[1] for item in sorted(zip(l1,l2))] # used for loop in List comprehension instead of for loop to append in list\n",
        "\n",
        "\n",
        "l3"
      ],
      "metadata": {
        "id": "S4UuBx7uMgEh"
      },
      "execution_count": null,
      "outputs": []
    },
    {
      "cell_type": "code",
      "source": [
        "## more efficiently hint: list Comprehension\n",
        "## implement bubble sort"
      ],
      "metadata": {
        "id": "lfxV8moQOeK0"
      },
      "execution_count": null,
      "outputs": []
    },
    {
      "cell_type": "markdown",
      "source": [
        "In Bubble Sort algorithm,\n",
        "\n",
        "traverse from left and compare adjacent elements and the higher one is placed at right side.\n",
        "In this way, the largest element is moved to the rightmost end at first.\n",
        "This process is then continued to find the second largest and place it and so on until the data is sorted."
      ],
      "metadata": {
        "id": "TXW7FUNTGKAQ"
      }
    },
    {
      "cell_type": "code",
      "source": [
        "arr  = [7, 2, 4, -5, 1, -9, 21, -7, 9, 11, -45]\n",
        "arr = sorted(arr)\n",
        "\n",
        "\n",
        "\n",
        "for i in range(0,len(arr) - 1):\n",
        "  isSwap = False\n",
        "  print(arr)\n",
        "  for j in range(0,len(arr) - i - 1):\n",
        "    if(arr[j] > arr[j+1]):\n",
        "      arr[j], arr[j + 1] = arr[j + 1], arr[j]\n",
        "      isSwap = True\n",
        "  if not isSwap:\n",
        "    break\n",
        "\n",
        "arr\n",
        "\n",
        "\n",
        "\n"
      ],
      "metadata": {
        "id": "zxiYECp0GM_g"
      },
      "execution_count": null,
      "outputs": []
    },
    {
      "cell_type": "code",
      "source": [
        "arr  = [7, 2, 4, -5, 1, -9, 21, -7, 9, 11, -45]\n",
        "\n",
        "for i in range(1,len(arr)):\n",
        "  j = i - 1\n",
        "  key = arr[i]\n",
        "  while(key < arr[j] and j >= 0):\n",
        "    arr[j+1] = arr[j]\n",
        "    j = j - 1\n",
        "  arr[j + 1] = key\n",
        "\n",
        "\n",
        "\n",
        "print(arr)\n"
      ],
      "metadata": {
        "id": "LJnHkXeSGpup"
      },
      "execution_count": null,
      "outputs": []
    },
    {
      "cell_type": "markdown",
      "source": [
        "## functions"
      ],
      "metadata": {
        "id": "gk1g7sTrQLCa"
      }
    },
    {
      "cell_type": "code",
      "source": [
        "def display():\n",
        "  print(\"display function\")"
      ],
      "metadata": {
        "id": "8whzBAjqyY8Q"
      },
      "execution_count": null,
      "outputs": []
    },
    {
      "cell_type": "code",
      "source": [
        "display()"
      ],
      "metadata": {
        "colab": {
          "base_uri": "https://localhost:8080/"
        },
        "id": "lsMsHaHjzjCg",
        "outputId": "8e1c5c1e-e940-439c-bf88-d784a262d861"
      },
      "execution_count": null,
      "outputs": [
        {
          "output_type": "stream",
          "name": "stdout",
          "text": [
            "display function\n"
          ]
        }
      ]
    },
    {
      "cell_type": "code",
      "source": [
        "a = display()"
      ],
      "metadata": {
        "colab": {
          "base_uri": "https://localhost:8080/"
        },
        "id": "lKdjzQ60z-ZW",
        "outputId": "56a3122b-7603-4e8c-d20a-2983579a8bc2"
      },
      "execution_count": null,
      "outputs": [
        {
          "output_type": "stream",
          "name": "stdout",
          "text": [
            "display function\n"
          ]
        }
      ]
    },
    {
      "cell_type": "code",
      "source": [
        "print(a) ## default return value none(null)"
      ],
      "metadata": {
        "colab": {
          "base_uri": "https://localhost:8080/"
        },
        "id": "H5Xgg2kI0CAM",
        "outputId": "3059ca72-6b3f-47d1-ed8b-67559f0e4d31"
      },
      "execution_count": null,
      "outputs": [
        {
          "output_type": "stream",
          "name": "stdout",
          "text": [
            "None\n"
          ]
        }
      ]
    },
    {
      "cell_type": "code",
      "source": [
        "def addition(x, y):\n",
        "  return x + y\n",
        "  print(x) ## this would not execute\n"
      ],
      "metadata": {
        "id": "BY5-WLSp0DlZ"
      },
      "execution_count": null,
      "outputs": []
    },
    {
      "cell_type": "code",
      "source": [
        "addition(4,5)"
      ],
      "metadata": {
        "colab": {
          "base_uri": "https://localhost:8080/"
        },
        "id": "XgL74fBw0ahy",
        "outputId": "4aba949c-7375-4625-dd6d-6360f261baf4"
      },
      "execution_count": null,
      "outputs": [
        {
          "output_type": "execute_result",
          "data": {
            "text/plain": [
              "9"
            ]
          },
          "metadata": {},
          "execution_count": 6
        }
      ]
    },
    {
      "cell_type": "markdown",
      "source": [
        "### Function arguments"
      ],
      "metadata": {
        "id": "eYL9CNBo1b3y"
      }
    },
    {
      "cell_type": "markdown",
      "source": [
        "**Required Arguments** they have to passed in correct order and compulsory otherwise you get error"
      ],
      "metadata": {
        "id": "PkcNRCkL1hYX"
      }
    },
    {
      "cell_type": "code",
      "source": [
        "def minus(a,b):\n",
        "  return a - b"
      ],
      "metadata": {
        "id": "bfrHLRzK1slr"
      },
      "execution_count": null,
      "outputs": []
    },
    {
      "cell_type": "code",
      "source": [
        "minus(3,4)"
      ],
      "metadata": {
        "colab": {
          "base_uri": "https://localhost:8080/"
        },
        "id": "HzaQ--E019eU",
        "outputId": "92adfbbf-088a-49e4-fa6b-547cc4969205"
      },
      "execution_count": null,
      "outputs": [
        {
          "output_type": "execute_result",
          "data": {
            "text/plain": [
              "-1"
            ]
          },
          "metadata": {},
          "execution_count": 17
        }
      ]
    },
    {
      "cell_type": "code",
      "source": [
        "minus()"
      ],
      "metadata": {
        "colab": {
          "base_uri": "https://localhost:8080/",
          "height": 179
        },
        "id": "8EWVpjW42AYm",
        "outputId": "deac1455-731a-4922-cddb-88a028f7b5a1"
      },
      "execution_count": null,
      "outputs": [
        {
          "output_type": "error",
          "ename": "TypeError",
          "evalue": "minus() missing 2 required positional arguments: 'a' and 'b'",
          "traceback": [
            "\u001b[0;31m---------------------------------------------------------------------------\u001b[0m",
            "\u001b[0;31mTypeError\u001b[0m                                 Traceback (most recent call last)",
            "\u001b[0;32m<ipython-input-18-80348be09403>\u001b[0m in \u001b[0;36m<cell line: 1>\u001b[0;34m()\u001b[0m\n\u001b[0;32m----> 1\u001b[0;31m \u001b[0mminus\u001b[0m\u001b[0;34m(\u001b[0m\u001b[0;34m)\u001b[0m\u001b[0;34m\u001b[0m\u001b[0;34m\u001b[0m\u001b[0m\n\u001b[0m",
            "\u001b[0;31mTypeError\u001b[0m: minus() missing 2 required positional arguments: 'a' and 'b'"
          ]
        }
      ]
    },
    {
      "cell_type": "code",
      "source": [
        "minus((4,5))"
      ],
      "metadata": {
        "colab": {
          "base_uri": "https://localhost:8080/",
          "height": 179
        },
        "id": "C6tf5oNW2CKL",
        "outputId": "ee3e140b-9212-4646-de5d-694b0ff0fa86"
      },
      "execution_count": null,
      "outputs": [
        {
          "output_type": "error",
          "ename": "TypeError",
          "evalue": "minus() missing 1 required positional argument: 'b'",
          "traceback": [
            "\u001b[0;31m---------------------------------------------------------------------------\u001b[0m",
            "\u001b[0;31mTypeError\u001b[0m                                 Traceback (most recent call last)",
            "\u001b[0;32m<ipython-input-20-f8f9ad86fbcb>\u001b[0m in \u001b[0;36m<cell line: 1>\u001b[0;34m()\u001b[0m\n\u001b[0;32m----> 1\u001b[0;31m \u001b[0mminus\u001b[0m\u001b[0;34m(\u001b[0m\u001b[0;34m(\u001b[0m\u001b[0;36m4\u001b[0m\u001b[0;34m,\u001b[0m\u001b[0;36m5\u001b[0m\u001b[0;34m)\u001b[0m\u001b[0;34m)\u001b[0m\u001b[0;34m\u001b[0m\u001b[0;34m\u001b[0m\u001b[0m\n\u001b[0m",
            "\u001b[0;31mTypeError\u001b[0m: minus() missing 1 required positional argument: 'b'"
          ]
        }
      ]
    },
    {
      "cell_type": "code",
      "source": [
        "minus(1,2,3)"
      ],
      "metadata": {
        "colab": {
          "base_uri": "https://localhost:8080/",
          "height": 179
        },
        "id": "7cQ34Kan3KuR",
        "outputId": "3ca807b6-13b9-4a31-c88d-eb534a207b73"
      },
      "execution_count": null,
      "outputs": [
        {
          "output_type": "error",
          "ename": "TypeError",
          "evalue": "minus() takes 2 positional arguments but 3 were given",
          "traceback": [
            "\u001b[0;31m---------------------------------------------------------------------------\u001b[0m",
            "\u001b[0;31mTypeError\u001b[0m                                 Traceback (most recent call last)",
            "\u001b[0;32m<ipython-input-21-ce9906ece370>\u001b[0m in \u001b[0;36m<cell line: 1>\u001b[0;34m()\u001b[0m\n\u001b[0;32m----> 1\u001b[0;31m \u001b[0mminus\u001b[0m\u001b[0;34m(\u001b[0m\u001b[0;36m1\u001b[0m\u001b[0;34m,\u001b[0m\u001b[0;36m2\u001b[0m\u001b[0;34m,\u001b[0m\u001b[0;36m3\u001b[0m\u001b[0;34m)\u001b[0m\u001b[0;34m\u001b[0m\u001b[0;34m\u001b[0m\u001b[0m\n\u001b[0m",
            "\u001b[0;31mTypeError\u001b[0m: minus() takes 2 positional arguments but 3 were given"
          ]
        }
      ]
    },
    {
      "cell_type": "markdown",
      "source": [
        "**Keyword Argument**"
      ],
      "metadata": {
        "id": "BXrdSEGF3-yp"
      }
    },
    {
      "cell_type": "code",
      "source": [
        "minus(a=55, b=67)"
      ],
      "metadata": {
        "colab": {
          "base_uri": "https://localhost:8080/"
        },
        "id": "7bcEj87F4KGX",
        "outputId": "b5576b8f-2292-49f7-bb08-22a28f429e45"
      },
      "execution_count": null,
      "outputs": [
        {
          "output_type": "execute_result",
          "data": {
            "text/plain": [
              "-12"
            ]
          },
          "metadata": {},
          "execution_count": 22
        }
      ]
    },
    {
      "cell_type": "code",
      "source": [
        "minus(b=67, a=55)"
      ],
      "metadata": {
        "colab": {
          "base_uri": "https://localhost:8080/"
        },
        "id": "7XsoVGdm4hkg",
        "outputId": "539aa64f-cd29-48f5-832c-7f1b4e5d0799"
      },
      "execution_count": null,
      "outputs": [
        {
          "output_type": "execute_result",
          "data": {
            "text/plain": [
              "-12"
            ]
          },
          "metadata": {},
          "execution_count": 23
        }
      ]
    },
    {
      "cell_type": "markdown",
      "source": [
        "**Default Argument**"
      ],
      "metadata": {
        "id": "Y8WjTMvL4n_d"
      }
    },
    {
      "cell_type": "markdown",
      "source": [
        "it wont throw error if you dont pass value nstead it will assume a pre defined value"
      ],
      "metadata": {
        "id": "ZT020H0K5GO2"
      }
    },
    {
      "cell_type": "code",
      "source": [
        "def addition(x, y=55):\n",
        "  ## if no value for y is passed defaul value 55 will be considered\n",
        "  return x + y"
      ],
      "metadata": {
        "id": "n8j9uZTu5P9V"
      },
      "execution_count": null,
      "outputs": []
    },
    {
      "cell_type": "code",
      "source": [
        "addition(1)"
      ],
      "metadata": {
        "colab": {
          "base_uri": "https://localhost:8080/"
        },
        "id": "E91mngY85h2p",
        "outputId": "6f586131-b691-41ad-c8d7-8ec8229749af"
      },
      "execution_count": null,
      "outputs": [
        {
          "output_type": "execute_result",
          "data": {
            "text/plain": [
              "56"
            ]
          },
          "metadata": {},
          "execution_count": 26
        }
      ]
    },
    {
      "cell_type": "code",
      "source": [
        "addition(5,6)"
      ],
      "metadata": {
        "colab": {
          "base_uri": "https://localhost:8080/"
        },
        "id": "B9DR-75T5kAb",
        "outputId": "b331a613-0433-4c1a-8ab4-a6f7da705b31"
      },
      "execution_count": null,
      "outputs": [
        {
          "output_type": "execute_result",
          "data": {
            "text/plain": [
              "11"
            ]
          },
          "metadata": {},
          "execution_count": 27
        }
      ]
    },
    {
      "cell_type": "code",
      "source": [
        "addition()"
      ],
      "metadata": {
        "colab": {
          "base_uri": "https://localhost:8080/",
          "height": 179
        },
        "id": "b4sAnwNk5mnJ",
        "outputId": "33f4d1c2-8822-4d2e-c3b2-b36aeb8acfb8"
      },
      "execution_count": null,
      "outputs": [
        {
          "output_type": "error",
          "ename": "TypeError",
          "evalue": "addition() missing 1 required positional argument: 'x'",
          "traceback": [
            "\u001b[0;31m---------------------------------------------------------------------------\u001b[0m",
            "\u001b[0;31mTypeError\u001b[0m                                 Traceback (most recent call last)",
            "\u001b[0;32m<ipython-input-28-adcc938d226f>\u001b[0m in \u001b[0;36m<cell line: 1>\u001b[0;34m()\u001b[0m\n\u001b[0;32m----> 1\u001b[0;31m \u001b[0maddition\u001b[0m\u001b[0;34m(\u001b[0m\u001b[0;34m)\u001b[0m\u001b[0;34m\u001b[0m\u001b[0;34m\u001b[0m\u001b[0m\n\u001b[0m",
            "\u001b[0;31mTypeError\u001b[0m: addition() missing 1 required positional argument: 'x'"
          ]
        }
      ]
    },
    {
      "cell_type": "code",
      "source": [
        "def minus(y=55, a):\n",
        "  return y - a"
      ],
      "metadata": {
        "colab": {
          "base_uri": "https://localhost:8080/",
          "height": 143
        },
        "id": "swzwZO5y5pxT",
        "outputId": "85680e04-b71a-46f7-a6f1-06231a1de01a"
      },
      "execution_count": null,
      "outputs": [
        {
          "output_type": "error",
          "ename": "SyntaxError",
          "evalue": "non-default argument follows default argument (<ipython-input-29-da5324242203>, line 1)",
          "traceback": [
            "\u001b[0;36m  File \u001b[0;32m\"<ipython-input-29-da5324242203>\"\u001b[0;36m, line \u001b[0;32m1\u001b[0m\n\u001b[0;31m    def minus(y=55, a):\u001b[0m\n\u001b[0m                    ^\u001b[0m\n\u001b[0;31mSyntaxError\u001b[0m\u001b[0;31m:\u001b[0m non-default argument follows default argument\n"
          ]
        }
      ]
    },
    {
      "cell_type": "markdown",
      "source": [
        "**variable length arguments**"
      ],
      "metadata": {
        "id": "RbC07tJU52Ek"
      }
    },
    {
      "cell_type": "markdown",
      "source": [
        "**args**"
      ],
      "metadata": {
        "id": "MKRNSz0B6DXC"
      }
    },
    {
      "cell_type": "code",
      "source": [
        "def display(a, *args):\n",
        "  ## any name after '*' is know as variable length argument\n",
        "  ## recommended to use *args(good practice)\n",
        "\n",
        "  print(a)\n",
        "  print(args)\n"
      ],
      "metadata": {
        "id": "bA14_uAN6LzT"
      },
      "execution_count": null,
      "outputs": []
    },
    {
      "cell_type": "code",
      "source": [
        "display(5)"
      ],
      "metadata": {
        "colab": {
          "base_uri": "https://localhost:8080/"
        },
        "id": "aHSkpiRg6xkR",
        "outputId": "0658b83d-51bd-4647-f3fd-fa829f76bab4"
      },
      "execution_count": null,
      "outputs": [
        {
          "output_type": "stream",
          "name": "stdout",
          "text": [
            "5\n",
            "()\n"
          ]
        }
      ]
    },
    {
      "cell_type": "code",
      "source": [
        "display(5,6)"
      ],
      "metadata": {
        "colab": {
          "base_uri": "https://localhost:8080/"
        },
        "id": "bXvXLqNv6z5m",
        "outputId": "fb9c3b83-08c6-4bb1-9c28-243a42bc8f24"
      },
      "execution_count": null,
      "outputs": [
        {
          "output_type": "stream",
          "name": "stdout",
          "text": [
            "5\n",
            "(6,)\n"
          ]
        }
      ]
    },
    {
      "cell_type": "code",
      "source": [
        "display(5,6,7,8,9)"
      ],
      "metadata": {
        "colab": {
          "base_uri": "https://localhost:8080/"
        },
        "id": "AasPz7yt65ki",
        "outputId": "c543c176-411e-4449-8e6a-2d91d543e84e"
      },
      "execution_count": null,
      "outputs": [
        {
          "output_type": "stream",
          "name": "stdout",
          "text": [
            "5\n",
            "(6, 7, 8, 9)\n"
          ]
        }
      ]
    },
    {
      "cell_type": "code",
      "source": [
        "display()"
      ],
      "metadata": {
        "colab": {
          "base_uri": "https://localhost:8080/",
          "height": 179
        },
        "id": "WNKeq6pG6-Cn",
        "outputId": "bbc633c4-d48b-4c5d-e730-95887891c954"
      },
      "execution_count": null,
      "outputs": [
        {
          "output_type": "error",
          "ename": "TypeError",
          "evalue": "display() missing 1 required positional argument: 'a'",
          "traceback": [
            "\u001b[0;31m---------------------------------------------------------------------------\u001b[0m",
            "\u001b[0;31mTypeError\u001b[0m                                 Traceback (most recent call last)",
            "\u001b[0;32m<ipython-input-36-4ab3b57d7e7c>\u001b[0m in \u001b[0;36m<cell line: 1>\u001b[0;34m()\u001b[0m\n\u001b[0;32m----> 1\u001b[0;31m \u001b[0mdisplay\u001b[0m\u001b[0;34m(\u001b[0m\u001b[0;34m)\u001b[0m\u001b[0;34m\u001b[0m\u001b[0;34m\u001b[0m\u001b[0m\n\u001b[0m",
            "\u001b[0;31mTypeError\u001b[0m: display() missing 1 required positional argument: 'a'"
          ]
        }
      ]
    },
    {
      "cell_type": "markdown",
      "source": [
        "**kwargs**"
      ],
      "metadata": {
        "id": "FgiwRXyp7GNp"
      }
    },
    {
      "cell_type": "code",
      "source": [
        "def display(a, **kwargs):\n",
        "  print(a)\n",
        "  print(kwargs)"
      ],
      "metadata": {
        "id": "kfqRzHFr72Yi"
      },
      "execution_count": null,
      "outputs": []
    },
    {
      "cell_type": "code",
      "source": [
        "display(5)"
      ],
      "metadata": {
        "colab": {
          "base_uri": "https://localhost:8080/"
        },
        "id": "XNbkOHZB8MCr",
        "outputId": "cfbe5d9d-8f1b-4b9f-f80b-0efea1b63f79"
      },
      "execution_count": null,
      "outputs": [
        {
          "output_type": "stream",
          "name": "stdout",
          "text": [
            "5\n",
            "{}\n"
          ]
        }
      ]
    },
    {
      "cell_type": "code",
      "source": [
        "display(5, c = 10)\n"
      ],
      "metadata": {
        "colab": {
          "base_uri": "https://localhost:8080/"
        },
        "id": "pNX7n7B98Nr1",
        "outputId": "e9abb795-c36c-4395-ad28-c5cd8562451c"
      },
      "execution_count": null,
      "outputs": [
        {
          "output_type": "stream",
          "name": "stdout",
          "text": [
            "5\n",
            "{'c': 10}\n"
          ]
        }
      ]
    },
    {
      "cell_type": "code",
      "source": [
        "display(5, c = 1, d=11)"
      ],
      "metadata": {
        "colab": {
          "base_uri": "https://localhost:8080/"
        },
        "id": "hglJsseY8WfT",
        "outputId": "0ede38ed-7f4f-4e01-b1e1-b5dfa2b140f7"
      },
      "execution_count": null,
      "outputs": [
        {
          "output_type": "stream",
          "name": "stdout",
          "text": [
            "5\n",
            "{'c': 1, 'd': 11}\n"
          ]
        }
      ]
    },
    {
      "cell_type": "code",
      "source": [
        "display(5, c=1,d=11,a=8)"
      ],
      "metadata": {
        "colab": {
          "base_uri": "https://localhost:8080/",
          "height": 179
        },
        "id": "Xzx7ewuO8cXo",
        "outputId": "eea3a735-58ad-43fa-9fc8-3b59daa5ff35"
      },
      "execution_count": null,
      "outputs": [
        {
          "output_type": "error",
          "ename": "TypeError",
          "evalue": "display() got multiple values for argument 'a'",
          "traceback": [
            "\u001b[0;31m---------------------------------------------------------------------------\u001b[0m",
            "\u001b[0;31mTypeError\u001b[0m                                 Traceback (most recent call last)",
            "\u001b[0;32m<ipython-input-43-7a0051c3f41e>\u001b[0m in \u001b[0;36m<cell line: 1>\u001b[0;34m()\u001b[0m\n\u001b[0;32m----> 1\u001b[0;31m \u001b[0mdisplay\u001b[0m\u001b[0;34m(\u001b[0m\u001b[0;36m5\u001b[0m\u001b[0;34m,\u001b[0m \u001b[0mc\u001b[0m\u001b[0;34m=\u001b[0m\u001b[0;36m1\u001b[0m\u001b[0;34m,\u001b[0m\u001b[0md\u001b[0m\u001b[0;34m=\u001b[0m\u001b[0;36m11\u001b[0m\u001b[0;34m,\u001b[0m\u001b[0ma\u001b[0m\u001b[0;34m=\u001b[0m\u001b[0;36m8\u001b[0m\u001b[0;34m)\u001b[0m\u001b[0;34m\u001b[0m\u001b[0;34m\u001b[0m\u001b[0m\n\u001b[0m",
            "\u001b[0;31mTypeError\u001b[0m: display() got multiple values for argument 'a'"
          ]
        }
      ]
    },
    {
      "cell_type": "code",
      "source": [
        "def summation(a,b,c,*args,**kwargs):\n",
        "  # add a,b,c\n",
        "  # multiply args vals among themselves\n",
        "  # get the vkwargs values and multiply them\n",
        "  # return sum of above 3\n",
        "\n",
        "\n",
        "\n",
        "  d = a + b + c\n",
        "  e = 1\n",
        "  for ele in args:\n",
        "    e = e * ele\n",
        "  f = 1\n",
        "  for key in kwargs:\n",
        "    f = f * kwargs[key]\n",
        "\n",
        "\n",
        "\n",
        "  if(len(kwargs) == 0 and len(args) == 0):\n",
        "    return d\n",
        "  elif(len(args) == 0):\n",
        "    return d + f\n",
        "  elif(len(kwargs) == 0):\n",
        "    return d + e\n",
        "\n",
        "  return d + e + f\n"
      ],
      "metadata": {
        "id": "4SiH0heq8l5z"
      },
      "execution_count": null,
      "outputs": []
    },
    {
      "cell_type": "code",
      "source": [
        "summation(3,4,5)"
      ],
      "metadata": {
        "colab": {
          "base_uri": "https://localhost:8080/"
        },
        "id": "Mc5tWScu-oNh",
        "outputId": "97b334e4-7467-4d1f-a574-952c9fa6e742"
      },
      "execution_count": null,
      "outputs": [
        {
          "output_type": "execute_result",
          "data": {
            "text/plain": [
              "12"
            ]
          },
          "metadata": {},
          "execution_count": 57
        }
      ]
    },
    {
      "cell_type": "code",
      "source": [
        "summation(3,4,5,10,10,10)"
      ],
      "metadata": {
        "colab": {
          "base_uri": "https://localhost:8080/"
        },
        "id": "5GY0ObGO-rhe",
        "outputId": "8ad8577f-200f-43db-f230-2263ce5e8fe6"
      },
      "execution_count": null,
      "outputs": [
        {
          "output_type": "execute_result",
          "data": {
            "text/plain": [
              "1012"
            ]
          },
          "metadata": {},
          "execution_count": 60
        }
      ]
    },
    {
      "cell_type": "code",
      "source": [
        "summation(3,4,5, x=10, y=10, z=10)"
      ],
      "metadata": {
        "colab": {
          "base_uri": "https://localhost:8080/"
        },
        "id": "WSaiOjXE-yhj",
        "outputId": "49fc5777-13ad-4049-80ac-1826cad02c75"
      },
      "execution_count": null,
      "outputs": [
        {
          "output_type": "execute_result",
          "data": {
            "text/plain": [
              "1012"
            ]
          },
          "metadata": {},
          "execution_count": 62
        }
      ]
    },
    {
      "cell_type": "markdown",
      "source": [
        "## Pass by val, pass by ref, lambda, scope of vars"
      ],
      "metadata": {
        "id": "R9SfcaMF-6ql"
      }
    },
    {
      "cell_type": "code",
      "source": [
        "def addition(l):\n",
        "  l.append(57)"
      ],
      "metadata": {
        "id": "OoExMNaAAXlM"
      },
      "execution_count": null,
      "outputs": []
    },
    {
      "cell_type": "code",
      "source": [
        "a = [1,2,3,4]\n",
        "\n",
        "addition(a)\n",
        "\n",
        "print(a)"
      ],
      "metadata": {
        "colab": {
          "base_uri": "https://localhost:8080/"
        },
        "id": "m-Xy2AjqlHt0",
        "outputId": "b3b8c526-00f3-4417-e23c-cd8906e48fc5"
      },
      "execution_count": null,
      "outputs": [
        {
          "output_type": "stream",
          "name": "stdout",
          "text": [
            "[1, 2, 3, 4, 57]\n"
          ]
        }
      ]
    },
    {
      "cell_type": "code",
      "source": [
        "def minus(t):\n",
        "  ## assuming that tuple has 4 elements\n",
        "  t = t[:2]+(56,)+t[2:]\n",
        "  return t\n"
      ],
      "metadata": {
        "id": "-vJy-9GGlOUQ"
      },
      "execution_count": null,
      "outputs": []
    },
    {
      "cell_type": "code",
      "source": [
        "b = (1,2,3,4)"
      ],
      "metadata": {
        "id": "mj1rZjKwlvHn"
      },
      "execution_count": null,
      "outputs": []
    },
    {
      "cell_type": "code",
      "source": [
        "c = 'pass by value'"
      ],
      "metadata": {
        "id": "bWLtICEflz93"
      },
      "execution_count": null,
      "outputs": []
    },
    {
      "cell_type": "code",
      "source": [
        "c = c[:5]+'57'+c[5:]"
      ],
      "metadata": {
        "id": "0k2MHd53mH35"
      },
      "execution_count": null,
      "outputs": []
    },
    {
      "cell_type": "code",
      "source": [
        "c"
      ],
      "metadata": {
        "colab": {
          "base_uri": "https://localhost:8080/",
          "height": 35
        },
        "id": "0oWgEa45mjUr",
        "outputId": "6cd973e2-835a-4dc0-8ad2-fc02de29d7fd"
      },
      "execution_count": null,
      "outputs": [
        {
          "output_type": "execute_result",
          "data": {
            "text/plain": [
              "'pass 57by value'"
            ],
            "application/vnd.google.colaboratory.intrinsic+json": {
              "type": "string"
            }
          },
          "metadata": {},
          "execution_count": 13
        }
      ]
    },
    {
      "cell_type": "code",
      "source": [
        "b = b[:2]+(56,)+b[2:]"
      ],
      "metadata": {
        "id": "CEa2YOZsnJxe"
      },
      "execution_count": null,
      "outputs": []
    },
    {
      "cell_type": "code",
      "source": [
        "b"
      ],
      "metadata": {
        "colab": {
          "base_uri": "https://localhost:8080/"
        },
        "id": "1jkMXZoPnUh7",
        "outputId": "557600ee-e2ae-4ee6-fddb-66cac257a561"
      },
      "execution_count": null,
      "outputs": [
        {
          "output_type": "execute_result",
          "data": {
            "text/plain": [
              "(1, 2, 56, 3, 4)"
            ]
          },
          "metadata": {},
          "execution_count": 17
        }
      ]
    },
    {
      "cell_type": "code",
      "source": [
        "b = (1,2,3,4)\n",
        "b = minus(b)"
      ],
      "metadata": {
        "id": "-lpm2EQonaqz"
      },
      "execution_count": null,
      "outputs": []
    },
    {
      "cell_type": "code",
      "source": [
        "b"
      ],
      "metadata": {
        "colab": {
          "base_uri": "https://localhost:8080/"
        },
        "id": "fGKfTd2cnvrJ",
        "outputId": "ea1d6941-b13d-4453-d95b-db856fe6e3c7"
      },
      "execution_count": null,
      "outputs": [
        {
          "output_type": "execute_result",
          "data": {
            "text/plain": [
              "(1, 2, 56, 3, 4)"
            ]
          },
          "metadata": {},
          "execution_count": 30
        }
      ]
    },
    {
      "cell_type": "markdown",
      "source": [
        "##Lambda"
      ],
      "metadata": {
        "id": "DAZnA_vsnxLX"
      }
    },
    {
      "cell_type": "code",
      "source": [
        "# syntax of Lambda\n",
        "# lambda [arg1 [,arg2,.....argn]]:expression\n"
      ],
      "metadata": {
        "id": "hYG3vK_Zowpp"
      },
      "execution_count": null,
      "outputs": []
    },
    {
      "cell_type": "code",
      "source": [
        "lam1 = lambda x1: x1 + 10"
      ],
      "metadata": {
        "id": "sO7Fa_8YpRV4"
      },
      "execution_count": null,
      "outputs": []
    },
    {
      "cell_type": "code",
      "source": [
        "lam1(5)"
      ],
      "metadata": {
        "colab": {
          "base_uri": "https://localhost:8080/"
        },
        "id": "MDuD81LVps0z",
        "outputId": "66f8e72d-86d1-4ee4-f98a-1a4f95688337"
      },
      "execution_count": null,
      "outputs": [
        {
          "output_type": "execute_result",
          "data": {
            "text/plain": [
              "15"
            ]
          },
          "metadata": {},
          "execution_count": 33
        }
      ]
    },
    {
      "cell_type": "code",
      "source": [
        "lam2 = lambda x1, x2: x1 + x2"
      ],
      "metadata": {
        "id": "w_4aojDopuXD"
      },
      "execution_count": null,
      "outputs": []
    },
    {
      "cell_type": "code",
      "source": [
        "lam2(5,5)"
      ],
      "metadata": {
        "colab": {
          "base_uri": "https://localhost:8080/"
        },
        "id": "zDNie2BQp1bO",
        "outputId": "3187c20c-61a9-4f6f-deb7-46fd54b30443"
      },
      "execution_count": null,
      "outputs": [
        {
          "output_type": "execute_result",
          "data": {
            "text/plain": [
              "10"
            ]
          },
          "metadata": {},
          "execution_count": 35
        }
      ]
    },
    {
      "cell_type": "code",
      "source": [
        "lam2(7)"
      ],
      "metadata": {
        "colab": {
          "base_uri": "https://localhost:8080/",
          "height": 179
        },
        "id": "JrYMLtIFp296",
        "outputId": "997f4b38-bb24-4c02-a392-d784dadb7432"
      },
      "execution_count": null,
      "outputs": [
        {
          "output_type": "error",
          "ename": "TypeError",
          "evalue": "<lambda>() missing 1 required positional argument: 'x2'",
          "traceback": [
            "\u001b[0;31m---------------------------------------------------------------------------\u001b[0m",
            "\u001b[0;31mTypeError\u001b[0m                                 Traceback (most recent call last)",
            "\u001b[0;32m<ipython-input-36-af1366333773>\u001b[0m in \u001b[0;36m<cell line: 1>\u001b[0;34m()\u001b[0m\n\u001b[0;32m----> 1\u001b[0;31m \u001b[0mlam2\u001b[0m\u001b[0;34m(\u001b[0m\u001b[0;36m7\u001b[0m\u001b[0;34m)\u001b[0m\u001b[0;34m\u001b[0m\u001b[0;34m\u001b[0m\u001b[0m\n\u001b[0m",
            "\u001b[0;31mTypeError\u001b[0m: <lambda>() missing 1 required positional argument: 'x2'"
          ]
        }
      ]
    },
    {
      "cell_type": "markdown",
      "source": [
        "**Global vs local Variables**"
      ],
      "metadata": {
        "id": "B53p2ygrp5Qj"
      }
    },
    {
      "cell_type": "code",
      "source": [
        "## c is a global variable\n",
        "c = 57\n",
        "\n",
        "def fun():\n",
        "  ## d is a local variable\n",
        "  d = 2\n",
        "  print(c,d)\n",
        "\n",
        "fun()\n"
      ],
      "metadata": {
        "colab": {
          "base_uri": "https://localhost:8080/"
        },
        "id": "j_TstaWyqOsV",
        "outputId": "efc84010-ddd8-4bc1-ccaf-6c20d17e3ff0"
      },
      "execution_count": null,
      "outputs": [
        {
          "output_type": "stream",
          "name": "stdout",
          "text": [
            "57 2\n"
          ]
        }
      ]
    },
    {
      "cell_type": "code",
      "source": [
        "# value of global variable can be accessed inside function but cant be changed\n",
        "# if variable is not passed or without using global keyword\n",
        "c = 57\n",
        "\n",
        "def fun():\n",
        "  ## d is a local variable\n",
        "  d = 2\n",
        "  c += 2\n",
        "  print(c,d)\n",
        "\n",
        "fun()\n",
        "\n"
      ],
      "metadata": {
        "colab": {
          "base_uri": "https://localhost:8080/",
          "height": 357
        },
        "id": "fut5C3jUqocc",
        "outputId": "dfd36383-1e75-4a5c-9a13-15c9538008cb"
      },
      "execution_count": null,
      "outputs": [
        {
          "output_type": "error",
          "ename": "UnboundLocalError",
          "evalue": "local variable 'c' referenced before assignment",
          "traceback": [
            "\u001b[0;31m---------------------------------------------------------------------------\u001b[0m",
            "\u001b[0;31mUnboundLocalError\u001b[0m                         Traceback (most recent call last)",
            "\u001b[0;32m<ipython-input-40-dd19b4cf5ed9>\u001b[0m in \u001b[0;36m<cell line: 11>\u001b[0;34m()\u001b[0m\n\u001b[1;32m      9\u001b[0m   \u001b[0mprint\u001b[0m\u001b[0;34m(\u001b[0m\u001b[0mc\u001b[0m\u001b[0;34m,\u001b[0m\u001b[0md\u001b[0m\u001b[0;34m)\u001b[0m\u001b[0;34m\u001b[0m\u001b[0;34m\u001b[0m\u001b[0m\n\u001b[1;32m     10\u001b[0m \u001b[0;34m\u001b[0m\u001b[0m\n\u001b[0;32m---> 11\u001b[0;31m \u001b[0mfun\u001b[0m\u001b[0;34m(\u001b[0m\u001b[0;34m)\u001b[0m\u001b[0;34m\u001b[0m\u001b[0;34m\u001b[0m\u001b[0m\n\u001b[0m\u001b[1;32m     12\u001b[0m \u001b[0;34m\u001b[0m\u001b[0m\n",
            "\u001b[0;32m<ipython-input-40-dd19b4cf5ed9>\u001b[0m in \u001b[0;36mfun\u001b[0;34m()\u001b[0m\n\u001b[1;32m      6\u001b[0m   \u001b[0;31m## d is a local variable\u001b[0m\u001b[0;34m\u001b[0m\u001b[0;34m\u001b[0m\u001b[0m\n\u001b[1;32m      7\u001b[0m   \u001b[0md\u001b[0m \u001b[0;34m=\u001b[0m \u001b[0;36m2\u001b[0m\u001b[0;34m\u001b[0m\u001b[0;34m\u001b[0m\u001b[0m\n\u001b[0;32m----> 8\u001b[0;31m   \u001b[0mc\u001b[0m \u001b[0;34m+=\u001b[0m \u001b[0;36m2\u001b[0m\u001b[0;34m\u001b[0m\u001b[0;34m\u001b[0m\u001b[0m\n\u001b[0m\u001b[1;32m      9\u001b[0m   \u001b[0mprint\u001b[0m\u001b[0;34m(\u001b[0m\u001b[0mc\u001b[0m\u001b[0;34m,\u001b[0m\u001b[0md\u001b[0m\u001b[0;34m)\u001b[0m\u001b[0;34m\u001b[0m\u001b[0;34m\u001b[0m\u001b[0m\n\u001b[1;32m     10\u001b[0m \u001b[0;34m\u001b[0m\u001b[0m\n",
            "\u001b[0;31mUnboundLocalError\u001b[0m: local variable 'c' referenced before assignment"
          ]
        }
      ]
    },
    {
      "cell_type": "code",
      "source": [
        "# using global keyword will let us change value of global variable\n",
        "# The value of global variable will be changed globally if its changes\n",
        "# inside function\n",
        "c = 57\n",
        "\n",
        "def fun():\n",
        "  ## d is a local variable\n",
        "  d = 2\n",
        "  global c\n",
        "  c += 2\n",
        "  print(c,d)\n",
        "\n",
        "fun()\n",
        "\n"
      ],
      "metadata": {
        "colab": {
          "base_uri": "https://localhost:8080/"
        },
        "id": "tBNeEU5prCPM",
        "outputId": "65ef1277-b5ee-4cfa-c205-59ac45f46a6a"
      },
      "execution_count": null,
      "outputs": [
        {
          "output_type": "stream",
          "name": "stdout",
          "text": [
            "59 2\n"
          ]
        }
      ]
    },
    {
      "cell_type": "code",
      "source": [
        "c"
      ],
      "metadata": {
        "colab": {
          "base_uri": "https://localhost:8080/"
        },
        "id": "-zcUMJNZrqIb",
        "outputId": "ae9d3608-cfa7-4446-a2ce-c6f67bf5e9cf"
      },
      "execution_count": null,
      "outputs": [
        {
          "output_type": "execute_result",
          "data": {
            "text/plain": [
              "59"
            ]
          },
          "metadata": {},
          "execution_count": 42
        }
      ]
    },
    {
      "cell_type": "markdown",
      "source": [
        "### Given a list of number find a unique set of duplicate values\n",
        "random_list = [0, 0, 1, 1, 2, 2, 3, 4, 5] # -> 0, 1, 2"
      ],
      "metadata": {
        "id": "InbFBb50r6Zg"
      }
    },
    {
      "cell_type": "code",
      "source": [
        "r = [0, 0, 1, 1, 2, 2, 3, 4, 5]\n",
        "\n",
        "r = [0,1,2,3,5,1]\n",
        "\n",
        "# do it with one data structure and one loop\n",
        "\n",
        "def duplVals(l):\n",
        "  m = []\n",
        "  n = []\n",
        "  for ele in l:\n",
        "    if(ele not in m):\n",
        "      m.append(ele)\n",
        "    else:\n",
        "      if(ele in n):\n",
        "        continue\n",
        "      else:\n",
        "        n.append(ele)\n",
        "\n",
        "  return n\n",
        "\n",
        "def uniqueVals(l):\n",
        "  m = {}\n",
        "  for ele in l:\n",
        "    if m.has_key(ele):\n",
        "      m[ele].append(m[ele] + 1)\n",
        "    else:\n",
        "      m[ele].append(1)\n",
        "\n",
        "\n",
        "\n",
        "\n",
        "\n",
        "\n",
        "\n",
        "a = uniqueVals(r)\n",
        "a"
      ],
      "metadata": {
        "colab": {
          "base_uri": "https://localhost:8080/"
        },
        "id": "2WP_nLQ0sO4N",
        "outputId": "b4537187-a04e-4939-a577-d7a14c8ee9cb"
      },
      "execution_count": null,
      "outputs": [
        {
          "output_type": "execute_result",
          "data": {
            "text/plain": [
              "[1]"
            ]
          },
          "metadata": {},
          "execution_count": 52
        }
      ]
    },
    {
      "cell_type": "code",
      "source": [
        "a"
      ],
      "metadata": {
        "colab": {
          "base_uri": "https://localhost:8080/"
        },
        "id": "RZS05fIYtU6F",
        "outputId": "aeebd198-145b-493e-c875-b17a409ed493"
      },
      "execution_count": null,
      "outputs": [
        {
          "output_type": "execute_result",
          "data": {
            "text/plain": [
              "[0, 1, 2]"
            ]
          },
          "metadata": {},
          "execution_count": 47
        }
      ]
    },
    {
      "cell_type": "markdown",
      "source": [
        "Implement a Function to Merge and Sort Multiple Lists\n",
        "\n",
        "Develop a function 'merge_and_sort_lists' that takes an arbitrary number of lists as arguments, merges them into a single list, and then sorts the merged list before returning it."
      ],
      "metadata": {
        "id": "4PoVHTBgtVxm"
      }
    },
    {
      "cell_type": "code",
      "source": [
        "def sortList(l):\n",
        "  for i in range len(l):\n",
        "    for j in range len(l):\n",
        "\n",
        "\n",
        "\n",
        "def merge_and_sort_lists(*args):\n",
        "  totList = []\n",
        "  ## store concatenated lists into a combined list totList\n",
        "  for lst in args:\n",
        "    totList.extend(lst)\n",
        "\n",
        "  ## sorting\n",
        "  print(totList)\n",
        "\n",
        "\n",
        "\n",
        "\n"
      ],
      "metadata": {
        "id": "48T6vB_Rwd1j"
      },
      "execution_count": null,
      "outputs": []
    },
    {
      "cell_type": "code",
      "source": [
        "merge_and_sort_lists([1,2],[3,4],[5,6])"
      ],
      "metadata": {
        "colab": {
          "base_uri": "https://localhost:8080/"
        },
        "id": "F4otQeEEx0cT",
        "outputId": "15c3c0f8-db2f-465f-feb1-6225c1328910"
      },
      "execution_count": null,
      "outputs": [
        {
          "output_type": "stream",
          "name": "stdout",
          "text": [
            "[1, 2, 3, 4, 5, 6]\n"
          ]
        }
      ]
    },
    {
      "cell_type": "markdown",
      "source": [
        "file io(read write), try-except, file import, regex, recursion, coding standards... etc.\n"
      ],
      "metadata": {
        "id": "ZaKrCdeEt6qZ"
      }
    },
    {
      "cell_type": "code",
      "source": [],
      "metadata": {
        "id": "IU_6zSTTvrSI"
      },
      "execution_count": null,
      "outputs": []
    }
  ]
}